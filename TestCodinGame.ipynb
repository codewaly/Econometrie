{
 "cells": [
  {
   "cell_type": "code",
   "execution_count": 20,
   "id": "910e1d6b",
   "metadata": {},
   "outputs": [],
   "source": [
    "import numpy as np\n",
    "def closestToZero(lst):\n",
    "    pos = []\n",
    "    neg = []\n",
    "    for i in lst:\n",
    "        if i >0:\n",
    "            pos.append(i)\n",
    "        else:\n",
    "            neg.append(i)\n",
    "    idxpos = np.abs(pos).argmin()\n",
    "    idxneg = np.abs(neg).argmin()\n",
    "    #return pos[idxpos],neg[idxneg]\n",
    "    if np.abs(pos[idxpos])==np.abs(neg[idxneg]):\n",
    "        return pos[idxpos]\n",
    "    else:\n",
    "        return neg[idxneg]"
   ]
  },
  {
   "cell_type": "code",
   "execution_count": 21,
   "id": "b9ab2fe3",
   "metadata": {},
   "outputs": [],
   "source": [
    "ts= [-10,13,8,4,2,-12,-3,7,3,5,-9,6,6,5,-1.7,-6,2,7]"
   ]
  },
  {
   "cell_type": "code",
   "execution_count": 22,
   "id": "01e51219",
   "metadata": {},
   "outputs": [
    {
     "data": {
      "text/plain": [
       "-1.7"
      ]
     },
     "execution_count": 22,
     "metadata": {},
     "output_type": "execute_result"
    }
   ],
   "source": [
    "closestToZero(ts)"
   ]
  },
  {
   "cell_type": "code",
   "execution_count": 23,
   "id": "3d239136",
   "metadata": {},
   "outputs": [],
   "source": [
    "def inverse_integ(nombre):\n",
    "    if nombre == 0:\n",
    "        return None\n",
    "    else:\n",
    "        sgn = nombre//np.abs(nombre)\n",
    "        nombre = str(np.abs(nombre))[::-1]\n",
    "        nombre = int(nombre)\n",
    "        return nombre*sgn"
   ]
  },
  {
   "cell_type": "code",
   "execution_count": 24,
   "id": "5376e9eb",
   "metadata": {},
   "outputs": [
    {
     "data": {
      "text/plain": [
       "-7891"
      ]
     },
     "execution_count": 24,
     "metadata": {},
     "output_type": "execute_result"
    }
   ],
   "source": [
    "inverse_integ(-1987)"
   ]
  },
  {
   "cell_type": "code",
   "execution_count": 25,
   "id": "ef71ef99",
   "metadata": {},
   "outputs": [],
   "source": [
    "def is_triplet_pythogorien(lst):\n",
    "    liste=[]\n",
    "    for i in lst:\n",
    "        for j in lst:\n",
    "            for k in lst:\n",
    "                if i**2+j**2==k**2:\n",
    "                    triplet = (i,j,k)\n",
    "                    liste.append(triplet)\n",
    "    liste = print(liste)\n",
    "    return liste"
   ]
  },
  {
   "cell_type": "code",
   "execution_count": 26,
   "id": "4a2e9f91",
   "metadata": {},
   "outputs": [
    {
     "name": "stdout",
     "output_type": "stream",
     "text": [
      "[(0, 0, 0), (0, 3, 3), (0, 6, 6), (0, 6, 6), (0, 1, 1), (0, 2, 2), (0, 4, 4), (0, 5, 5), (0, 6, 6), (0, 6, 6), (0, 41, 41), (0, 52, 52), (0, 8, 8), (0, 64, 64), (3, 0, 3), (3, 4, 5), (6, 0, 6), (6, 0, 6), (1, 0, 1), (2, 0, 2), (4, 0, 4), (4, 3, 5), (5, 0, 5), (6, 0, 6), (6, 0, 6), (41, 0, 41), (52, 0, 52), (8, 0, 8), (64, 0, 64)]\n"
     ]
    }
   ],
   "source": [
    "is_triplet_pythogorien([0, 3, 6, 1, 2, 4, 5,6,41,52,8,64])"
   ]
  },
  {
   "cell_type": "code",
   "execution_count": 27,
   "id": "5f42d54e",
   "metadata": {},
   "outputs": [],
   "source": [
    "import re\n",
    "def long_moyenne_mot(phrase):\n",
    "    phrase = re.sub(r'[^\\w\\s]','',phrase)\n",
    "    phrase = phrase.split()\n",
    "    n = len(phrase)\n",
    "    long = 0\n",
    "    for word in phrase:\n",
    "        long += len(word)\n",
    "    long_moyenne= long/n\n",
    "    return round(long_moyenne,4)"
   ]
  },
  {
   "cell_type": "code",
   "execution_count": 28,
   "id": "301a1646",
   "metadata": {},
   "outputs": [
    {
     "data": {
      "text/plain": [
       "5.3846"
      ]
     },
     "execution_count": 28,
     "metadata": {},
     "output_type": "execute_result"
    }
   ],
   "source": [
    "long_moyenne_mot(\"Même les phrases avec des caractères de la langue française peuvent être utilisées.\"\n",
    ")"
   ]
  },
  {
   "cell_type": "code",
   "execution_count": 29,
   "id": "f4ec25cd",
   "metadata": {},
   "outputs": [
    {
     "data": {
      "text/plain": [
       "5.1667"
      ]
     },
     "execution_count": 29,
     "metadata": {},
     "output_type": "execute_result"
    }
   ],
   "source": [
    "long_moyenne_mot(\"Le blog 'ledatascientist' est le blog français de référence en Data Science.\")"
   ]
  },
  {
   "cell_type": "code",
   "execution_count": 31,
   "id": "5cbc9cf1",
   "metadata": {},
   "outputs": [
    {
     "name": "stdout",
     "output_type": "stream",
     "text": [
      "Donner un nombre entier : 5\n",
      "Entrer n nombres entiers compris entre -273 et 55264 3 2 5 6\n",
      "6\n"
     ]
    }
   ],
   "source": [
    "import sys\n",
    "import math\n",
    "\n",
    "# Auto-generated code below aims at helping you parse\n",
    "# the standard input according to the problem statement.\n",
    "\n",
    "n = int(input(\"Donner un nombre entier : \"))\n",
    "\n",
    "\n",
    "for i in input(\"Entrer n nombres entiers compris entre -273 et 5526\").split():\n",
    "    t = int(i)\n",
    "\n",
    "# Write an answer using print\n",
    "# To debug: print(\"Debug messages...\", file=sys.stderr, flush=True)\n",
    "\n",
    "print(t)"
   ]
  },
  {
   "cell_type": "code",
   "execution_count": 33,
   "id": "c82449c3",
   "metadata": {},
   "outputs": [
    {
     "name": "stdout",
     "output_type": "stream",
     "text": [
      "Enter a two value: 12 9\n",
      "First :  12\n",
      "Second:  9\n"
     ]
    }
   ],
   "source": [
    "x, y = input(\"Enter a two value: \").split()\n",
    "\n",
    "print(\"First : \", x)\n",
    "print(\"Second: \", y)"
   ]
  },
  {
   "cell_type": "code",
   "execution_count": 34,
   "id": "512d7c86",
   "metadata": {},
   "outputs": [
    {
     "data": {
      "text/plain": [
       "['x0', 'x1']"
      ]
     },
     "execution_count": 34,
     "metadata": {},
     "output_type": "execute_result"
    }
   ],
   "source": [
    "n=2\n",
    "[\"x\"+str(i) for i in range(n)]"
   ]
  },
  {
   "cell_type": "code",
   "execution_count": 35,
   "id": "b19bdc2b",
   "metadata": {},
   "outputs": [
    {
     "name": "stdout",
     "output_type": "stream",
     "text": [
      "Helloword\"Je ne comprends pas\"\n",
      "answer\n"
     ]
    }
   ],
   "source": [
    "# Auto-generated code below aims at helping you parse\n",
    "# the standard input according to the problem statement.\n",
    "\n",
    "s = input(\"Helloword\")\n",
    "answer = s[0]+s[0]+s[1]+s[2]+s[3]+s[5]+s[10]\n",
    "# Write an answer using print\n",
    "# To debug: print(\"Debug messages...\", file=sys.stderr, flush=True)\n",
    "\n",
    "print(\"answer\")"
   ]
  },
  {
   "cell_type": "code",
   "execution_count": null,
   "id": "b962410c",
   "metadata": {},
   "outputs": [],
   "source": []
  },
  {
   "cell_type": "code",
   "execution_count": null,
   "id": "8e2d4419",
   "metadata": {},
   "outputs": [],
   "source": []
  }
 ],
 "metadata": {
  "kernelspec": {
   "display_name": "Python 3 (ipykernel)",
   "language": "python",
   "name": "python3"
  },
  "language_info": {
   "codemirror_mode": {
    "name": "ipython",
    "version": 3
   },
   "file_extension": ".py",
   "mimetype": "text/x-python",
   "name": "python",
   "nbconvert_exporter": "python",
   "pygments_lexer": "ipython3",
   "version": "3.9.10"
  }
 },
 "nbformat": 4,
 "nbformat_minor": 5
}
