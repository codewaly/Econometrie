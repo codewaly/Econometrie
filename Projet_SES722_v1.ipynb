{
 "cells": [
  {
   "cell_type": "markdown",
   "metadata": {},
   "source": [
    "Waly NGOM, Guillaume CANAT\n",
    "\n",
    "# Projet SES722 : Partie 1, Régression"
   ]
  },
  {
   "cell_type": "code",
   "execution_count": 24,
   "metadata": {},
   "outputs": [],
   "source": [
    "import numpy as np\n",
    "import pandas as pd\n",
    "import statsmodels.api as sm\n",
    "import matplotlib.pyplot as plt\n",
    "import seaborn as sns\n",
    "import warnings\n",
    "warnings.filterwarnings(\"ignore\")"
   ]
  },
  {
   "cell_type": "markdown",
   "metadata": {},
   "source": [
    "## Description du jeu de données"
   ]
  },
  {
   "cell_type": "code",
   "execution_count": 25,
   "metadata": {},
   "outputs": [
    {
     "name": "stdout",
     "output_type": "stream",
     "text": [
      "MROZ.DES\n",
      "\n",
      "inlf      hours     kidslt6   kidsge6   age       educ      wage      repwage  \n",
      "hushrs    husage    huseduc   huswage   faminc    mtr       motheduc  \n",
      "fatheduc  unem      city      exper     nwifeinc  lwage     expersq   \n",
      "\n",
      "  Obs:   753\n",
      "\n",
      "  1. inlf                     =1 if in labor force, 1975\n",
      "  2. hours                    hours worked, 1975\n",
      "  3. kidslt6                  # kids < 6 years\n",
      "  4. kidsge6                  # kids 6-18\n",
      "  5. age                      woman's age in yrs\n",
      "  6. educ                     years of schooling\n",
      "  7. wage                     estimated wage from earns., hours\n",
      "  8. repwage                  reported wage at interview in 1976\n",
      "  9. hushrs                   hours worked by husband, 1975\n",
      " 10. husage                   husband's age\n",
      " 11. huseduc                  husband's years of schooling\n",
      " 12. huswage                  husband's hourly wage, 1975\n",
      " 13. faminc                   family income, 1975\n",
      " 14. mtr                      fed. marginal tax rate facing woman\n",
      " 15. motheduc                 mother's years of schooling\n",
      " 16. fatheduc                 father's years of schooling\n",
      " 17. unem                     unem. rate in county of resid.\n",
      " 18. city                     =1 if live in SMSA\n",
      " 19. exper                    actual labor mkt exper\n",
      " 20. nwifeinc                 (faminc - wage*hours)/1000\n",
      " 21. lwage                    log(wage)\n",
      " 22. expersq                  exper^2\n",
      "\n",
      "\n"
     ]
    }
   ],
   "source": [
    "with open(\"MROZ.txt\") as f:\n",
    "    content = f.read()\n",
    "    print(content)"
   ]
  },
  {
   "cell_type": "markdown",
   "metadata": {},
   "source": [
    "## Question 1"
   ]
  },
  {
   "cell_type": "code",
   "execution_count": 63,
   "metadata": {},
   "outputs": [
    {
     "data": {
      "text/html": [
       "<div>\n",
       "<style scoped>\n",
       "    .dataframe tbody tr th:only-of-type {\n",
       "        vertical-align: middle;\n",
       "    }\n",
       "\n",
       "    .dataframe tbody tr th {\n",
       "        vertical-align: top;\n",
       "    }\n",
       "\n",
       "    .dataframe thead th {\n",
       "        text-align: right;\n",
       "    }\n",
       "</style>\n",
       "<table border=\"1\" class=\"dataframe\">\n",
       "  <thead>\n",
       "    <tr style=\"text-align: right;\">\n",
       "      <th></th>\n",
       "      <th>inlf</th>\n",
       "      <th>hours</th>\n",
       "      <th>kidslt6</th>\n",
       "      <th>kidsge6</th>\n",
       "      <th>age</th>\n",
       "      <th>educ</th>\n",
       "      <th>wage</th>\n",
       "      <th>repwage</th>\n",
       "      <th>hushrs</th>\n",
       "      <th>husage</th>\n",
       "      <th>...</th>\n",
       "      <th>faminc</th>\n",
       "      <th>mtr</th>\n",
       "      <th>motheduc</th>\n",
       "      <th>fatheduc</th>\n",
       "      <th>unem</th>\n",
       "      <th>city</th>\n",
       "      <th>exper</th>\n",
       "      <th>nwifeinc</th>\n",
       "      <th>lwage</th>\n",
       "      <th>expersq</th>\n",
       "    </tr>\n",
       "  </thead>\n",
       "  <tbody>\n",
       "    <tr>\n",
       "      <th>0</th>\n",
       "      <td>1</td>\n",
       "      <td>1610</td>\n",
       "      <td>1</td>\n",
       "      <td>0</td>\n",
       "      <td>32</td>\n",
       "      <td>12</td>\n",
       "      <td>3.354</td>\n",
       "      <td>2.65</td>\n",
       "      <td>2708</td>\n",
       "      <td>34</td>\n",
       "      <td>...</td>\n",
       "      <td>16310</td>\n",
       "      <td>0.7215</td>\n",
       "      <td>12</td>\n",
       "      <td>7</td>\n",
       "      <td>5.0</td>\n",
       "      <td>0</td>\n",
       "      <td>14</td>\n",
       "      <td>10.910060</td>\n",
       "      <td>1.210154</td>\n",
       "      <td>196</td>\n",
       "    </tr>\n",
       "    <tr>\n",
       "      <th>1</th>\n",
       "      <td>1</td>\n",
       "      <td>1656</td>\n",
       "      <td>0</td>\n",
       "      <td>2</td>\n",
       "      <td>30</td>\n",
       "      <td>12</td>\n",
       "      <td>1.3889</td>\n",
       "      <td>2.65</td>\n",
       "      <td>2310</td>\n",
       "      <td>30</td>\n",
       "      <td>...</td>\n",
       "      <td>21800</td>\n",
       "      <td>0.6615</td>\n",
       "      <td>7</td>\n",
       "      <td>7</td>\n",
       "      <td>11.0</td>\n",
       "      <td>1</td>\n",
       "      <td>5</td>\n",
       "      <td>19.499980</td>\n",
       "      <td>.3285121</td>\n",
       "      <td>25</td>\n",
       "    </tr>\n",
       "    <tr>\n",
       "      <th>2</th>\n",
       "      <td>1</td>\n",
       "      <td>1980</td>\n",
       "      <td>1</td>\n",
       "      <td>3</td>\n",
       "      <td>35</td>\n",
       "      <td>12</td>\n",
       "      <td>4.5455</td>\n",
       "      <td>4.04</td>\n",
       "      <td>3072</td>\n",
       "      <td>40</td>\n",
       "      <td>...</td>\n",
       "      <td>21040</td>\n",
       "      <td>0.6915</td>\n",
       "      <td>12</td>\n",
       "      <td>7</td>\n",
       "      <td>5.0</td>\n",
       "      <td>0</td>\n",
       "      <td>15</td>\n",
       "      <td>12.039910</td>\n",
       "      <td>1.514138</td>\n",
       "      <td>225</td>\n",
       "    </tr>\n",
       "    <tr>\n",
       "      <th>3</th>\n",
       "      <td>1</td>\n",
       "      <td>456</td>\n",
       "      <td>0</td>\n",
       "      <td>3</td>\n",
       "      <td>34</td>\n",
       "      <td>12</td>\n",
       "      <td>1.0965</td>\n",
       "      <td>3.25</td>\n",
       "      <td>1920</td>\n",
       "      <td>53</td>\n",
       "      <td>...</td>\n",
       "      <td>7300</td>\n",
       "      <td>0.7815</td>\n",
       "      <td>7</td>\n",
       "      <td>7</td>\n",
       "      <td>5.0</td>\n",
       "      <td>0</td>\n",
       "      <td>6</td>\n",
       "      <td>6.799996</td>\n",
       "      <td>.0921233</td>\n",
       "      <td>36</td>\n",
       "    </tr>\n",
       "    <tr>\n",
       "      <th>4</th>\n",
       "      <td>1</td>\n",
       "      <td>1568</td>\n",
       "      <td>1</td>\n",
       "      <td>2</td>\n",
       "      <td>31</td>\n",
       "      <td>14</td>\n",
       "      <td>4.5918</td>\n",
       "      <td>3.60</td>\n",
       "      <td>2000</td>\n",
       "      <td>32</td>\n",
       "      <td>...</td>\n",
       "      <td>27300</td>\n",
       "      <td>0.6215</td>\n",
       "      <td>12</td>\n",
       "      <td>14</td>\n",
       "      <td>9.5</td>\n",
       "      <td>1</td>\n",
       "      <td>7</td>\n",
       "      <td>20.100060</td>\n",
       "      <td>1.524272</td>\n",
       "      <td>49</td>\n",
       "    </tr>\n",
       "  </tbody>\n",
       "</table>\n",
       "<p>5 rows × 22 columns</p>\n",
       "</div>"
      ],
      "text/plain": [
       "   inlf  hours  kidslt6  kidsge6  age  educ    wage  repwage  hushrs  husage  \\\n",
       "0     1   1610        1        0   32    12   3.354     2.65    2708      34   \n",
       "1     1   1656        0        2   30    12  1.3889     2.65    2310      30   \n",
       "2     1   1980        1        3   35    12  4.5455     4.04    3072      40   \n",
       "3     1    456        0        3   34    12  1.0965     3.25    1920      53   \n",
       "4     1   1568        1        2   31    14  4.5918     3.60    2000      32   \n",
       "\n",
       "   ...  faminc     mtr  motheduc  fatheduc  unem  city  exper   nwifeinc  \\\n",
       "0  ...   16310  0.7215        12         7   5.0     0     14  10.910060   \n",
       "1  ...   21800  0.6615         7         7  11.0     1      5  19.499980   \n",
       "2  ...   21040  0.6915        12         7   5.0     0     15  12.039910   \n",
       "3  ...    7300  0.7815         7         7   5.0     0      6   6.799996   \n",
       "4  ...   27300  0.6215        12        14   9.5     1      7  20.100060   \n",
       "\n",
       "      lwage  expersq  \n",
       "0  1.210154      196  \n",
       "1  .3285121       25  \n",
       "2  1.514138      225  \n",
       "3  .0921233       36  \n",
       "4  1.524272       49  \n",
       "\n",
       "[5 rows x 22 columns]"
      ]
     },
     "execution_count": 63,
     "metadata": {},
     "output_type": "execute_result"
    }
   ],
   "source": [
    "# on utilise les noms de colonnes du fichier .DESC\n",
    "col_names = [\"inlf\", \"hours\", \"kidslt6\", \"kidsge6\", \"age\", \"educ\", \"wage\",\n",
    "             \"repwage\",\"hushrs\",\"husage\",\"huseduc\", \"huswage\", \"faminc\",\n",
    "             \"mtr\", \"motheduc\", \"fatheduc\", \"unem\", \"city\", \"exper\",\n",
    "             \"nwifeinc\", \"lwage\", \"expersq\"]\n",
    "# chargement des données\n",
    "df = pd.read_csv(\"MROZ.csv\", header=None, delim_whitespace=True, names=col_names)\n",
    "df.head()"
   ]
  },
  {
   "cell_type": "code",
   "execution_count": 27,
   "metadata": {},
   "outputs": [
    {
     "data": {
      "text/html": [
       "<div>\n",
       "<style scoped>\n",
       "    .dataframe tbody tr th:only-of-type {\n",
       "        vertical-align: middle;\n",
       "    }\n",
       "\n",
       "    .dataframe tbody tr th {\n",
       "        vertical-align: top;\n",
       "    }\n",
       "\n",
       "    .dataframe thead th {\n",
       "        text-align: right;\n",
       "    }\n",
       "</style>\n",
       "<table border=\"1\" class=\"dataframe\">\n",
       "  <thead>\n",
       "    <tr style=\"text-align: right;\">\n",
       "      <th></th>\n",
       "      <th>inlf</th>\n",
       "      <th>hours</th>\n",
       "      <th>kidslt6</th>\n",
       "      <th>kidsge6</th>\n",
       "      <th>age</th>\n",
       "      <th>educ</th>\n",
       "      <th>wage</th>\n",
       "      <th>repwage</th>\n",
       "      <th>hushrs</th>\n",
       "      <th>husage</th>\n",
       "      <th>...</th>\n",
       "      <th>faminc</th>\n",
       "      <th>mtr</th>\n",
       "      <th>motheduc</th>\n",
       "      <th>fatheduc</th>\n",
       "      <th>unem</th>\n",
       "      <th>city</th>\n",
       "      <th>exper</th>\n",
       "      <th>nwifeinc</th>\n",
       "      <th>lwage</th>\n",
       "      <th>expersq</th>\n",
       "    </tr>\n",
       "  </thead>\n",
       "  <tbody>\n",
       "    <tr>\n",
       "      <th>0</th>\n",
       "      <td>1</td>\n",
       "      <td>1610</td>\n",
       "      <td>1</td>\n",
       "      <td>0</td>\n",
       "      <td>32</td>\n",
       "      <td>12</td>\n",
       "      <td>3.3540</td>\n",
       "      <td>2.65</td>\n",
       "      <td>2708</td>\n",
       "      <td>34</td>\n",
       "      <td>...</td>\n",
       "      <td>16310</td>\n",
       "      <td>0.7215</td>\n",
       "      <td>12</td>\n",
       "      <td>7</td>\n",
       "      <td>5.0</td>\n",
       "      <td>0</td>\n",
       "      <td>14</td>\n",
       "      <td>10.910060</td>\n",
       "      <td>1.210154</td>\n",
       "      <td>196</td>\n",
       "    </tr>\n",
       "    <tr>\n",
       "      <th>1</th>\n",
       "      <td>1</td>\n",
       "      <td>1656</td>\n",
       "      <td>0</td>\n",
       "      <td>2</td>\n",
       "      <td>30</td>\n",
       "      <td>12</td>\n",
       "      <td>1.3889</td>\n",
       "      <td>2.65</td>\n",
       "      <td>2310</td>\n",
       "      <td>30</td>\n",
       "      <td>...</td>\n",
       "      <td>21800</td>\n",
       "      <td>0.6615</td>\n",
       "      <td>7</td>\n",
       "      <td>7</td>\n",
       "      <td>11.0</td>\n",
       "      <td>1</td>\n",
       "      <td>5</td>\n",
       "      <td>19.499980</td>\n",
       "      <td>.3285121</td>\n",
       "      <td>25</td>\n",
       "    </tr>\n",
       "    <tr>\n",
       "      <th>2</th>\n",
       "      <td>1</td>\n",
       "      <td>1980</td>\n",
       "      <td>1</td>\n",
       "      <td>3</td>\n",
       "      <td>35</td>\n",
       "      <td>12</td>\n",
       "      <td>4.5455</td>\n",
       "      <td>4.04</td>\n",
       "      <td>3072</td>\n",
       "      <td>40</td>\n",
       "      <td>...</td>\n",
       "      <td>21040</td>\n",
       "      <td>0.6915</td>\n",
       "      <td>12</td>\n",
       "      <td>7</td>\n",
       "      <td>5.0</td>\n",
       "      <td>0</td>\n",
       "      <td>15</td>\n",
       "      <td>12.039910</td>\n",
       "      <td>1.514138</td>\n",
       "      <td>225</td>\n",
       "    </tr>\n",
       "    <tr>\n",
       "      <th>3</th>\n",
       "      <td>1</td>\n",
       "      <td>456</td>\n",
       "      <td>0</td>\n",
       "      <td>3</td>\n",
       "      <td>34</td>\n",
       "      <td>12</td>\n",
       "      <td>1.0965</td>\n",
       "      <td>3.25</td>\n",
       "      <td>1920</td>\n",
       "      <td>53</td>\n",
       "      <td>...</td>\n",
       "      <td>7300</td>\n",
       "      <td>0.7815</td>\n",
       "      <td>7</td>\n",
       "      <td>7</td>\n",
       "      <td>5.0</td>\n",
       "      <td>0</td>\n",
       "      <td>6</td>\n",
       "      <td>6.799996</td>\n",
       "      <td>.0921233</td>\n",
       "      <td>36</td>\n",
       "    </tr>\n",
       "    <tr>\n",
       "      <th>4</th>\n",
       "      <td>1</td>\n",
       "      <td>1568</td>\n",
       "      <td>1</td>\n",
       "      <td>2</td>\n",
       "      <td>31</td>\n",
       "      <td>14</td>\n",
       "      <td>4.5918</td>\n",
       "      <td>3.60</td>\n",
       "      <td>2000</td>\n",
       "      <td>32</td>\n",
       "      <td>...</td>\n",
       "      <td>27300</td>\n",
       "      <td>0.6215</td>\n",
       "      <td>12</td>\n",
       "      <td>14</td>\n",
       "      <td>9.5</td>\n",
       "      <td>1</td>\n",
       "      <td>7</td>\n",
       "      <td>20.100060</td>\n",
       "      <td>1.524272</td>\n",
       "      <td>49</td>\n",
       "    </tr>\n",
       "    <tr>\n",
       "      <th>...</th>\n",
       "      <td>...</td>\n",
       "      <td>...</td>\n",
       "      <td>...</td>\n",
       "      <td>...</td>\n",
       "      <td>...</td>\n",
       "      <td>...</td>\n",
       "      <td>...</td>\n",
       "      <td>...</td>\n",
       "      <td>...</td>\n",
       "      <td>...</td>\n",
       "      <td>...</td>\n",
       "      <td>...</td>\n",
       "      <td>...</td>\n",
       "      <td>...</td>\n",
       "      <td>...</td>\n",
       "      <td>...</td>\n",
       "      <td>...</td>\n",
       "      <td>...</td>\n",
       "      <td>...</td>\n",
       "      <td>...</td>\n",
       "      <td>...</td>\n",
       "    </tr>\n",
       "    <tr>\n",
       "      <th>423</th>\n",
       "      <td>1</td>\n",
       "      <td>680</td>\n",
       "      <td>0</td>\n",
       "      <td>5</td>\n",
       "      <td>36</td>\n",
       "      <td>10</td>\n",
       "      <td>2.3118</td>\n",
       "      <td>0.00</td>\n",
       "      <td>3430</td>\n",
       "      <td>43</td>\n",
       "      <td>...</td>\n",
       "      <td>19772</td>\n",
       "      <td>0.7215</td>\n",
       "      <td>7</td>\n",
       "      <td>7</td>\n",
       "      <td>7.5</td>\n",
       "      <td>0</td>\n",
       "      <td>2</td>\n",
       "      <td>18.199980</td>\n",
       "      <td>.8380265</td>\n",
       "      <td>4</td>\n",
       "    </tr>\n",
       "    <tr>\n",
       "      <th>424</th>\n",
       "      <td>1</td>\n",
       "      <td>2450</td>\n",
       "      <td>0</td>\n",
       "      <td>1</td>\n",
       "      <td>40</td>\n",
       "      <td>12</td>\n",
       "      <td>5.3061</td>\n",
       "      <td>6.50</td>\n",
       "      <td>2008</td>\n",
       "      <td>40</td>\n",
       "      <td>...</td>\n",
       "      <td>35641</td>\n",
       "      <td>0.6215</td>\n",
       "      <td>7</td>\n",
       "      <td>7</td>\n",
       "      <td>5.0</td>\n",
       "      <td>1</td>\n",
       "      <td>21</td>\n",
       "      <td>22.641060</td>\n",
       "      <td>1.668857</td>\n",
       "      <td>441</td>\n",
       "    </tr>\n",
       "    <tr>\n",
       "      <th>425</th>\n",
       "      <td>1</td>\n",
       "      <td>2144</td>\n",
       "      <td>0</td>\n",
       "      <td>2</td>\n",
       "      <td>43</td>\n",
       "      <td>13</td>\n",
       "      <td>5.8675</td>\n",
       "      <td>0.00</td>\n",
       "      <td>2140</td>\n",
       "      <td>43</td>\n",
       "      <td>...</td>\n",
       "      <td>34220</td>\n",
       "      <td>0.5815</td>\n",
       "      <td>7</td>\n",
       "      <td>7</td>\n",
       "      <td>7.5</td>\n",
       "      <td>1</td>\n",
       "      <td>22</td>\n",
       "      <td>21.640080</td>\n",
       "      <td>1.769429</td>\n",
       "      <td>484</td>\n",
       "    </tr>\n",
       "    <tr>\n",
       "      <th>426</th>\n",
       "      <td>1</td>\n",
       "      <td>1760</td>\n",
       "      <td>0</td>\n",
       "      <td>1</td>\n",
       "      <td>33</td>\n",
       "      <td>12</td>\n",
       "      <td>3.4091</td>\n",
       "      <td>3.21</td>\n",
       "      <td>3380</td>\n",
       "      <td>34</td>\n",
       "      <td>...</td>\n",
       "      <td>30000</td>\n",
       "      <td>0.5815</td>\n",
       "      <td>12</td>\n",
       "      <td>16</td>\n",
       "      <td>11.0</td>\n",
       "      <td>1</td>\n",
       "      <td>14</td>\n",
       "      <td>23.999980</td>\n",
       "      <td>1.226448</td>\n",
       "      <td>196</td>\n",
       "    </tr>\n",
       "    <tr>\n",
       "      <th>427</th>\n",
       "      <td>1</td>\n",
       "      <td>490</td>\n",
       "      <td>0</td>\n",
       "      <td>1</td>\n",
       "      <td>30</td>\n",
       "      <td>12</td>\n",
       "      <td>4.0816</td>\n",
       "      <td>2.46</td>\n",
       "      <td>2430</td>\n",
       "      <td>33</td>\n",
       "      <td>...</td>\n",
       "      <td>18000</td>\n",
       "      <td>0.6915</td>\n",
       "      <td>12</td>\n",
       "      <td>12</td>\n",
       "      <td>7.5</td>\n",
       "      <td>1</td>\n",
       "      <td>7</td>\n",
       "      <td>16.000020</td>\n",
       "      <td>1.406489</td>\n",
       "      <td>49</td>\n",
       "    </tr>\n",
       "  </tbody>\n",
       "</table>\n",
       "<p>428 rows × 22 columns</p>\n",
       "</div>"
      ],
      "text/plain": [
       "     inlf  hours  kidslt6  kidsge6  age  educ    wage  repwage  hushrs  \\\n",
       "0       1   1610        1        0   32    12  3.3540     2.65    2708   \n",
       "1       1   1656        0        2   30    12  1.3889     2.65    2310   \n",
       "2       1   1980        1        3   35    12  4.5455     4.04    3072   \n",
       "3       1    456        0        3   34    12  1.0965     3.25    1920   \n",
       "4       1   1568        1        2   31    14  4.5918     3.60    2000   \n",
       "..    ...    ...      ...      ...  ...   ...     ...      ...     ...   \n",
       "423     1    680        0        5   36    10  2.3118     0.00    3430   \n",
       "424     1   2450        0        1   40    12  5.3061     6.50    2008   \n",
       "425     1   2144        0        2   43    13  5.8675     0.00    2140   \n",
       "426     1   1760        0        1   33    12  3.4091     3.21    3380   \n",
       "427     1    490        0        1   30    12  4.0816     2.46    2430   \n",
       "\n",
       "     husage  ...  faminc     mtr  motheduc  fatheduc  unem  city  exper  \\\n",
       "0        34  ...   16310  0.7215        12         7   5.0     0     14   \n",
       "1        30  ...   21800  0.6615         7         7  11.0     1      5   \n",
       "2        40  ...   21040  0.6915        12         7   5.0     0     15   \n",
       "3        53  ...    7300  0.7815         7         7   5.0     0      6   \n",
       "4        32  ...   27300  0.6215        12        14   9.5     1      7   \n",
       "..      ...  ...     ...     ...       ...       ...   ...   ...    ...   \n",
       "423      43  ...   19772  0.7215         7         7   7.5     0      2   \n",
       "424      40  ...   35641  0.6215         7         7   5.0     1     21   \n",
       "425      43  ...   34220  0.5815         7         7   7.5     1     22   \n",
       "426      34  ...   30000  0.5815        12        16  11.0     1     14   \n",
       "427      33  ...   18000  0.6915        12        12   7.5     1      7   \n",
       "\n",
       "      nwifeinc     lwage  expersq  \n",
       "0    10.910060  1.210154      196  \n",
       "1    19.499980  .3285121       25  \n",
       "2    12.039910  1.514138      225  \n",
       "3     6.799996  .0921233       36  \n",
       "4    20.100060  1.524272       49  \n",
       "..         ...       ...      ...  \n",
       "423  18.199980  .8380265        4  \n",
       "424  22.641060  1.668857      441  \n",
       "425  21.640080  1.769429      484  \n",
       "426  23.999980  1.226448      196  \n",
       "427  16.000020  1.406489       49  \n",
       "\n",
       "[428 rows x 22 columns]"
      ]
     },
     "execution_count": 27,
     "metadata": {},
     "output_type": "execute_result"
    }
   ],
   "source": [
    "# on remplace les \".\" par des 0 et on convertit la colonne en type float\n",
    "df.loc[:, \"wage\"] = df[\"wage\"].replace({\".\":0.0}).astype(float)\n",
    "# on filtre le dataframe comme demandé\n",
    "df = df.loc[df[\"wage\"] > 0, :]\n",
    "df"
   ]
  },
  {
   "cell_type": "markdown",
   "metadata": {},
   "source": [
    "## Question 2"
   ]
  },
  {
   "cell_type": "code",
   "execution_count": 28,
   "metadata": {},
   "outputs": [
    {
     "data": {
      "text/html": [
       "<div>\n",
       "<style scoped>\n",
       "    .dataframe tbody tr th:only-of-type {\n",
       "        vertical-align: middle;\n",
       "    }\n",
       "\n",
       "    .dataframe tbody tr th {\n",
       "        vertical-align: top;\n",
       "    }\n",
       "\n",
       "    .dataframe thead th {\n",
       "        text-align: right;\n",
       "    }\n",
       "</style>\n",
       "<table border=\"1\" class=\"dataframe\">\n",
       "  <thead>\n",
       "    <tr style=\"text-align: right;\">\n",
       "      <th></th>\n",
       "      <th>wage</th>\n",
       "      <th>age</th>\n",
       "      <th>educ</th>\n",
       "    </tr>\n",
       "  </thead>\n",
       "  <tbody>\n",
       "    <tr>\n",
       "      <th>count</th>\n",
       "      <td>428.000000</td>\n",
       "      <td>428.000000</td>\n",
       "      <td>428.000000</td>\n",
       "    </tr>\n",
       "    <tr>\n",
       "      <th>mean</th>\n",
       "      <td>4.177682</td>\n",
       "      <td>41.971963</td>\n",
       "      <td>12.658879</td>\n",
       "    </tr>\n",
       "    <tr>\n",
       "      <th>std</th>\n",
       "      <td>3.310282</td>\n",
       "      <td>7.721084</td>\n",
       "      <td>2.285376</td>\n",
       "    </tr>\n",
       "    <tr>\n",
       "      <th>min</th>\n",
       "      <td>0.128200</td>\n",
       "      <td>30.000000</td>\n",
       "      <td>5.000000</td>\n",
       "    </tr>\n",
       "    <tr>\n",
       "      <th>25%</th>\n",
       "      <td>2.262600</td>\n",
       "      <td>35.000000</td>\n",
       "      <td>12.000000</td>\n",
       "    </tr>\n",
       "    <tr>\n",
       "      <th>50%</th>\n",
       "      <td>3.481900</td>\n",
       "      <td>42.000000</td>\n",
       "      <td>12.000000</td>\n",
       "    </tr>\n",
       "    <tr>\n",
       "      <th>75%</th>\n",
       "      <td>4.970750</td>\n",
       "      <td>47.250000</td>\n",
       "      <td>14.000000</td>\n",
       "    </tr>\n",
       "    <tr>\n",
       "      <th>max</th>\n",
       "      <td>25.000000</td>\n",
       "      <td>60.000000</td>\n",
       "      <td>17.000000</td>\n",
       "    </tr>\n",
       "  </tbody>\n",
       "</table>\n",
       "</div>"
      ],
      "text/plain": [
       "             wage         age        educ\n",
       "count  428.000000  428.000000  428.000000\n",
       "mean     4.177682   41.971963   12.658879\n",
       "std      3.310282    7.721084    2.285376\n",
       "min      0.128200   30.000000    5.000000\n",
       "25%      2.262600   35.000000   12.000000\n",
       "50%      3.481900   42.000000   12.000000\n",
       "75%      4.970750   47.250000   14.000000\n",
       "max     25.000000   60.000000   17.000000"
      ]
     },
     "execution_count": 28,
     "metadata": {},
     "output_type": "execute_result"
    }
   ],
   "source": [
    "# stat descriptives pour les femmes (ie l'ensembe du dataset)\n",
    "df[[\"wage\", \"age\", \"educ\"]].describe()"
   ]
  },
  {
   "cell_type": "code",
   "execution_count": 29,
   "metadata": {},
   "outputs": [
    {
     "data": {
      "text/html": [
       "<div>\n",
       "<style scoped>\n",
       "    .dataframe tbody tr th:only-of-type {\n",
       "        vertical-align: middle;\n",
       "    }\n",
       "\n",
       "    .dataframe tbody tr th {\n",
       "        vertical-align: top;\n",
       "    }\n",
       "\n",
       "    .dataframe thead th {\n",
       "        text-align: right;\n",
       "    }\n",
       "</style>\n",
       "<table border=\"1\" class=\"dataframe\">\n",
       "  <thead>\n",
       "    <tr style=\"text-align: right;\">\n",
       "      <th></th>\n",
       "      <th>wage</th>\n",
       "      <th>age</th>\n",
       "      <th>educ</th>\n",
       "    </tr>\n",
       "  </thead>\n",
       "  <tbody>\n",
       "    <tr>\n",
       "      <th>count</th>\n",
       "      <td>148.000000</td>\n",
       "      <td>148.00000</td>\n",
       "      <td>148.000000</td>\n",
       "    </tr>\n",
       "    <tr>\n",
       "      <th>mean</th>\n",
       "      <td>5.139315</td>\n",
       "      <td>42.52027</td>\n",
       "      <td>13.520270</td>\n",
       "    </tr>\n",
       "    <tr>\n",
       "      <th>std</th>\n",
       "      <td>4.351728</td>\n",
       "      <td>7.35168</td>\n",
       "      <td>2.345845</td>\n",
       "    </tr>\n",
       "    <tr>\n",
       "      <th>min</th>\n",
       "      <td>0.213700</td>\n",
       "      <td>30.00000</td>\n",
       "      <td>5.000000</td>\n",
       "    </tr>\n",
       "    <tr>\n",
       "      <th>25%</th>\n",
       "      <td>2.561925</td>\n",
       "      <td>36.00000</td>\n",
       "      <td>12.000000</td>\n",
       "    </tr>\n",
       "    <tr>\n",
       "      <th>50%</th>\n",
       "      <td>4.008050</td>\n",
       "      <td>43.00000</td>\n",
       "      <td>13.000000</td>\n",
       "    </tr>\n",
       "    <tr>\n",
       "      <th>75%</th>\n",
       "      <td>6.516300</td>\n",
       "      <td>48.00000</td>\n",
       "      <td>16.000000</td>\n",
       "    </tr>\n",
       "    <tr>\n",
       "      <th>max</th>\n",
       "      <td>25.000000</td>\n",
       "      <td>59.00000</td>\n",
       "      <td>17.000000</td>\n",
       "    </tr>\n",
       "  </tbody>\n",
       "</table>\n",
       "</div>"
      ],
      "text/plain": [
       "             wage        age        educ\n",
       "count  148.000000  148.00000  148.000000\n",
       "mean     5.139315   42.52027   13.520270\n",
       "std      4.351728    7.35168    2.345845\n",
       "min      0.213700   30.00000    5.000000\n",
       "25%      2.561925   36.00000   12.000000\n",
       "50%      4.008050   43.00000   13.000000\n",
       "75%      6.516300   48.00000   16.000000\n",
       "max     25.000000   59.00000   17.000000"
      ]
     },
     "execution_count": 29,
     "metadata": {},
     "output_type": "execute_result"
    }
   ],
   "source": [
    "# stat descriptives pour les femmes dont le salaires du mari\n",
    "# est supérieur au 65ème percentile de l'échantillon\n",
    "percent_65 = np.percentile(df[\"huswage\"], 65)\n",
    "df.loc[df[\"huswage\"] > percent_65, [\"wage\", \"age\", \"educ\"]].describe()"
   ]
  },
  {
   "cell_type": "code",
   "execution_count": 30,
   "metadata": {},
   "outputs": [
    {
     "data": {
      "text/html": [
       "<div>\n",
       "<style scoped>\n",
       "    .dataframe tbody tr th:only-of-type {\n",
       "        vertical-align: middle;\n",
       "    }\n",
       "\n",
       "    .dataframe tbody tr th {\n",
       "        vertical-align: top;\n",
       "    }\n",
       "\n",
       "    .dataframe thead th {\n",
       "        text-align: right;\n",
       "    }\n",
       "</style>\n",
       "<table border=\"1\" class=\"dataframe\">\n",
       "  <thead>\n",
       "    <tr style=\"text-align: right;\">\n",
       "      <th></th>\n",
       "      <th>wage</th>\n",
       "      <th>age</th>\n",
       "      <th>educ</th>\n",
       "    </tr>\n",
       "  </thead>\n",
       "  <tbody>\n",
       "    <tr>\n",
       "      <th>count</th>\n",
       "      <td>280.000000</td>\n",
       "      <td>280.000000</td>\n",
       "      <td>280.000000</td>\n",
       "    </tr>\n",
       "    <tr>\n",
       "      <th>mean</th>\n",
       "      <td>3.669390</td>\n",
       "      <td>41.682143</td>\n",
       "      <td>12.203571</td>\n",
       "    </tr>\n",
       "    <tr>\n",
       "      <th>std</th>\n",
       "      <td>2.458277</td>\n",
       "      <td>7.906875</td>\n",
       "      <td>2.119542</td>\n",
       "    </tr>\n",
       "    <tr>\n",
       "      <th>min</th>\n",
       "      <td>0.128200</td>\n",
       "      <td>30.000000</td>\n",
       "      <td>6.000000</td>\n",
       "    </tr>\n",
       "    <tr>\n",
       "      <th>25%</th>\n",
       "      <td>2.151600</td>\n",
       "      <td>35.000000</td>\n",
       "      <td>12.000000</td>\n",
       "    </tr>\n",
       "    <tr>\n",
       "      <th>50%</th>\n",
       "      <td>3.203550</td>\n",
       "      <td>41.000000</td>\n",
       "      <td>12.000000</td>\n",
       "    </tr>\n",
       "    <tr>\n",
       "      <th>75%</th>\n",
       "      <td>4.539500</td>\n",
       "      <td>47.000000</td>\n",
       "      <td>12.000000</td>\n",
       "    </tr>\n",
       "    <tr>\n",
       "      <th>max</th>\n",
       "      <td>22.500000</td>\n",
       "      <td>60.000000</td>\n",
       "      <td>17.000000</td>\n",
       "    </tr>\n",
       "  </tbody>\n",
       "</table>\n",
       "</div>"
      ],
      "text/plain": [
       "             wage         age        educ\n",
       "count  280.000000  280.000000  280.000000\n",
       "mean     3.669390   41.682143   12.203571\n",
       "std      2.458277    7.906875    2.119542\n",
       "min      0.128200   30.000000    6.000000\n",
       "25%      2.151600   35.000000   12.000000\n",
       "50%      3.203550   41.000000   12.000000\n",
       "75%      4.539500   47.000000   12.000000\n",
       "max     22.500000   60.000000   17.000000"
      ]
     },
     "execution_count": 30,
     "metadata": {},
     "output_type": "execute_result"
    }
   ],
   "source": [
    "# stat descriptives pour les femmes dont le salaires du mari\n",
    "# est inférieur au 65ème percentile de l'échantillon\n",
    "df.loc[df[\"huswage\"] <= percent_65, [\"wage\", \"age\", \"educ\"]].describe()"
   ]
  },
  {
   "cell_type": "markdown",
   "metadata": {},
   "source": [
    "Le salaire moyen (et médian) des femmes dont les maris ont un salaire inférieur au 65ème percentile est inférieur aux autre femmes.\n",
    "\n",
    "L'écart-type du salaire des femmes dont le mari à un salaire supérieur au 65ème percentile est plus important."
   ]
  },
  {
   "cell_type": "markdown",
   "metadata": {},
   "source": [
    "## Question 3"
   ]
  },
  {
   "cell_type": "code",
   "execution_count": 31,
   "metadata": {},
   "outputs": [
    {
     "data": {
      "image/png": "[encoded data removed]",
      "text/plain": [
       "<Figure size 432x288 with 1 Axes>"
      ]
     },
     "metadata": {
      "needs_background": "light"
     },
     "output_type": "display_data"
    }
   ],
   "source": [
    "plt.figure(figsize=(6,4))\n",
    "plt.hist(df[\"wage\"], bins=30)\n",
    "plt.title(\"Distribution de la variable 'wage'\")\n",
    "plt.show()"
   ]
  },
  {
   "cell_type": "code",
   "execution_count": 61,
   "metadata": {},
   "outputs": [
    {
     "data": {
      "image/png": "[encoded data removed]",
      "text/plain": [
       "<Figure size 432x288 with 1 Axes>"
      ]
     },
     "metadata": {
      "needs_background": "light"
     },
     "output_type": "display_data"
    }
   ],
   "source": [
    "# mask booléen : valeur absolue de l'écart entre l'observation et la moyenne\n",
    "# supérieur à 3 x l'écart-type\n",
    "mask = np.abs(df[\"wage\"] - df[\"wage\"].mean()) <= 3*df[\"wage\"].std()\n",
    "# filtrage du dataframe avec ce mask\n",
    "df = df.loc[mask,:]\n",
    "\n",
    "# on refait l'histogramme\n",
    "plt.figure(figsize=(6,4))\n",
    "plt.hist(df.loc[:, \"wage\"], bins=30)\n",
    "plt.title(\"Distribution de la variable 'wage' après filtrage\")\n",
    "plt.show()"
   ]
  },
  {
   "cell_type": "markdown",
   "metadata": {},
   "source": [
    "## Question 4"
   ]
  },
  {
   "cell_type": "code",
   "execution_count": 33,
   "metadata": {},
   "outputs": [
    {
     "name": "stdout",
     "output_type": "stream",
     "text": [
      "Coéfficient de corrélation entre 'motheduc' et 'fatheduc' : 0.5487\n"
     ]
    }
   ],
   "source": [
    "correl = np.corrcoef(df[\"motheduc\"], df[\"fatheduc\"])[1,0]\n",
    "print(f\"Coéfficient de corrélation entre 'motheduc' et 'fatheduc' : {correl:.4f}\")"
   ]
  },
  {
   "cell_type": "markdown",
   "metadata": {},
   "source": [
    "Commentaire : Les deux variables sont moyennement corrélées.\n",
    "\n",
    "Multi-colinéarité : si des variables sont colinéaires alors la matrice X n'est pas de plein rang et donc pas inversible. On aura donc pas de solution unique pour les paramètres du modèle."
   ]
  },
  {
   "cell_type": "markdown",
   "metadata": {},
   "source": [
    "## Question 5"
   ]
  },
  {
   "cell_type": "code",
   "execution_count": 34,
   "metadata": {},
   "outputs": [
    {
     "data": {
      "image/png": "[encoded data removed]",
      "text/plain": [
       "<Figure size 432x288 with 1 Axes>"
      ]
     },
     "metadata": {
      "needs_background": "light"
     },
     "output_type": "display_data"
    }
   ],
   "source": [
    "plt.figure(figsize=(6,4))\n",
    "plt.scatter(df[\"educ\"], df[\"wage\"],  marker='+')\n",
    "plt.title(\"Nuage de points entre les variables 'wage' et 'educ'\")\n",
    "plt.xlabel(\"educ\")\n",
    "plt.ylabel(\"wage\")\n",
    "plt.show()"
   ]
  },
  {
   "cell_type": "markdown",
   "metadata": {},
   "source": [
    "Commentaire : Pour pouvoir extraire de l'information de ce type graphique, on doit en effet supposer *toute chose égale par ailleurs*, cependant on voit bien que ça n'est pas le cas ici puisque pour une valeur d'*educ* on peut avoir de nombreuses valeurs de *wage* très disparates (comme par exemple pour *educ* = 12)."
   ]
  },
  {
   "cell_type": "markdown",
   "metadata": {},
   "source": [
    "## Question 6\n",
    "Hypothèse fondamentale pour le modèle $y_i = \\theta^T X_i + \\epsilon_i$ :\n",
    "* $\\forall i \\text{, } \\mathbb{E}[\\epsilon_i] = 0$ et $\\epsilon_i$ indépendants.\n",
    "* $X$ est de plein rang (à voir si on garde)\n",
    "\n",
    "**Compléter biais de variable omise**"
   ]
  },
  {
   "cell_type": "markdown",
   "metadata": {},
   "source": [
    "## Question 7"
   ]
  },
  {
   "cell_type": "code",
   "execution_count": 35,
   "metadata": {},
   "outputs": [],
   "source": [
    "X = df[[\"city\", \"educ\", \"exper\", \"nwifeinc\", \"kidslt6\", \"kidsge6\"]]\n",
    "X = sm.add_constant(X)\n",
    "y = np.log(df[\"wage\"])\n",
    "model = sm.OLS(y,X).fit()"
   ]
  },
  {
   "cell_type": "code",
   "execution_count": 36,
   "metadata": {},
   "outputs": [
    {
     "data": {
      "text/html": [
       "<table class=\"simpletable\">\n",
       "<caption>OLS Regression Results</caption>\n",
       "<tr>\n",
       "  <th>Dep. Variable:</th>          <td>wage</td>       <th>  R-squared:         </th> <td>   0.173</td>\n",
       "</tr>\n",
       "<tr>\n",
       "  <th>Model:</th>                   <td>OLS</td>       <th>  Adj. R-squared:    </th> <td>   0.161</td>\n",
       "</tr>\n",
       "<tr>\n",
       "  <th>Method:</th>             <td>Least Squares</td>  <th>  F-statistic:       </th> <td>   14.41</td>\n",
       "</tr>\n",
       "<tr>\n",
       "  <th>Date:</th>             <td>Tue, 03 May 2022</td> <th>  Prob (F-statistic):</th> <td>6.13e-15</td>\n",
       "</tr>\n",
       "<tr>\n",
       "  <th>Time:</th>                 <td>11:45:56</td>     <th>  Log-Likelihood:    </th> <td> -392.18</td>\n",
       "</tr>\n",
       "<tr>\n",
       "  <th>No. Observations:</th>      <td>   419</td>      <th>  AIC:               </th> <td>   798.4</td>\n",
       "</tr>\n",
       "<tr>\n",
       "  <th>Df Residuals:</th>          <td>   412</td>      <th>  BIC:               </th> <td>   826.6</td>\n",
       "</tr>\n",
       "<tr>\n",
       "  <th>Df Model:</th>              <td>     6</td>      <th>                     </th>     <td> </td>   \n",
       "</tr>\n",
       "<tr>\n",
       "  <th>Covariance Type:</th>      <td>nonrobust</td>    <th>                     </th>     <td> </td>   \n",
       "</tr>\n",
       "</table>\n",
       "<table class=\"simpletable\">\n",
       "<tr>\n",
       "      <td></td>        <th>coef</th>     <th>std err</th>      <th>t</th>      <th>P>|t|</th>  <th>[0.025</th>    <th>0.975]</th>  \n",
       "</tr>\n",
       "<tr>\n",
       "  <th>const</th>    <td>   -0.4379</td> <td>    0.195</td> <td>   -2.243</td> <td> 0.025</td> <td>   -0.822</td> <td>   -0.054</td>\n",
       "</tr>\n",
       "<tr>\n",
       "  <th>city</th>     <td>    0.0236</td> <td>    0.066</td> <td>    0.359</td> <td> 0.720</td> <td>   -0.106</td> <td>    0.153</td>\n",
       "</tr>\n",
       "<tr>\n",
       "  <th>educ</th>     <td>    0.0993</td> <td>    0.014</td> <td>    6.991</td> <td> 0.000</td> <td>    0.071</td> <td>    0.127</td>\n",
       "</tr>\n",
       "<tr>\n",
       "  <th>exper</th>    <td>    0.0189</td> <td>    0.004</td> <td>    4.493</td> <td> 0.000</td> <td>    0.011</td> <td>    0.027</td>\n",
       "</tr>\n",
       "<tr>\n",
       "  <th>nwifeinc</th> <td>    0.0043</td> <td>    0.003</td> <td>    1.376</td> <td> 0.170</td> <td>   -0.002</td> <td>    0.010</td>\n",
       "</tr>\n",
       "<tr>\n",
       "  <th>kidslt6</th>  <td>   -0.0613</td> <td>    0.080</td> <td>   -0.764</td> <td> 0.445</td> <td>   -0.219</td> <td>    0.096</td>\n",
       "</tr>\n",
       "<tr>\n",
       "  <th>kidsge6</th>  <td>   -0.0002</td> <td>    0.025</td> <td>   -0.009</td> <td> 0.993</td> <td>   -0.050</td> <td>    0.049</td>\n",
       "</tr>\n",
       "</table>\n",
       "<table class=\"simpletable\">\n",
       "<tr>\n",
       "  <th>Omnibus:</th>       <td>124.505</td> <th>  Durbin-Watson:     </th> <td>   1.872</td>\n",
       "</tr>\n",
       "<tr>\n",
       "  <th>Prob(Omnibus):</th> <td> 0.000</td>  <th>  Jarque-Bera (JB):  </th> <td> 391.383</td>\n",
       "</tr>\n",
       "<tr>\n",
       "  <th>Skew:</th>          <td>-1.361</td>  <th>  Prob(JB):          </th> <td>1.03e-85</td>\n",
       "</tr>\n",
       "<tr>\n",
       "  <th>Kurtosis:</th>      <td> 6.874</td>  <th>  Cond. No.          </th> <td>    178.</td>\n",
       "</tr>\n",
       "</table><br/><br/>Notes:<br/>[1] Standard Errors assume that the covariance matrix of the errors is correctly specified."
      ],
      "text/plain": [
       "<class 'statsmodels.iolib.summary.Summary'>\n",
       "\"\"\"\n",
       "                            OLS Regression Results                            \n",
       "==============================================================================\n",
       "Dep. Variable:                   wage   R-squared:                       0.173\n",
       "Model:                            OLS   Adj. R-squared:                  0.161\n",
       "Method:                 Least Squares   F-statistic:                     14.41\n",
       "Date:                Tue, 03 May 2022   Prob (F-statistic):           6.13e-15\n",
       "Time:                        11:45:56   Log-Likelihood:                -392.18\n",
       "No. Observations:                 419   AIC:                             798.4\n",
       "Df Residuals:                     412   BIC:                             826.6\n",
       "Df Model:                           6                                         \n",
       "Covariance Type:            nonrobust                                         \n",
       "==============================================================================\n",
       "                 coef    std err          t      P>|t|      [0.025      0.975]\n",
       "------------------------------------------------------------------------------\n",
       "const         -0.4379      0.195     -2.243      0.025      -0.822      -0.054\n",
       "city           0.0236      0.066      0.359      0.720      -0.106       0.153\n",
       "educ           0.0993      0.014      6.991      0.000       0.071       0.127\n",
       "exper          0.0189      0.004      4.493      0.000       0.011       0.027\n",
       "nwifeinc       0.0043      0.003      1.376      0.170      -0.002       0.010\n",
       "kidslt6       -0.0613      0.080     -0.764      0.445      -0.219       0.096\n",
       "kidsge6       -0.0002      0.025     -0.009      0.993      -0.050       0.049\n",
       "==============================================================================\n",
       "Omnibus:                      124.505   Durbin-Watson:                   1.872\n",
       "Prob(Omnibus):                  0.000   Jarque-Bera (JB):              391.383\n",
       "Skew:                          -1.361   Prob(JB):                     1.03e-85\n",
       "Kurtosis:                       6.874   Cond. No.                         178.\n",
       "==============================================================================\n",
       "\n",
       "Notes:\n",
       "[1] Standard Errors assume that the covariance matrix of the errors is correctly specified.\n",
       "\"\"\""
      ]
     },
     "execution_count": 36,
     "metadata": {},
     "output_type": "execute_result"
    }
   ],
   "source": [
    "model.summary()"
   ]
  },
  {
   "cell_type": "code",
   "execution_count": 37,
   "metadata": {},
   "outputs": [
    {
     "data": {
      "image/png": "[encoded data removed]",
      "text/plain": [
       "<Figure size 432x288 with 1 Axes>"
      ]
     },
     "metadata": {
      "needs_background": "light"
     },
     "output_type": "display_data"
    }
   ],
   "source": [
    "plt.figure(figsize=(6,4))\n",
    "sns.distplot(model.resid)\n",
    "plt.title(\"Histogramme des résidus\")\n",
    "plt.show()"
   ]
  },
  {
   "cell_type": "markdown",
   "metadata": {},
   "source": [
    "Commentaire : la distribution des résidus a une forme quasi-gaussienne bien que l'on note une légère disymmétrie (skewness) et \"longue queue\" à gauche (kurtosis)."
   ]
  },
  {
   "cell_type": "markdown",
   "metadata": {},
   "source": [
    "## Question 8\n",
    "Test de student pour le $k$-ième coéfficient de regression $\\beta_k$ :\n",
    "\n",
    " - estimateur de $\\sigma^2$ : $\\hat{\\sigma}^2 = \\frac{1}{n-p-1}\\|Y - X \\beta\\|^2$, avec $n$ le nombre d'observations et $p+1$ le rang de $X$ (constante inclue),\n",
    "\n",
    " - $\\hat{s}_k^2$ = $n (X^TX)^{-1}_{k,k}$ , le $k$-ième élément de la diagonale\n",
    "\n",
    " - alors\n",
    "$$T = \\sqrt \\frac{n}{\\hat{s}_k^2 \\hat{\\sigma}^2_{k}}(\\hat{\\beta}_{k} - \\beta^{*}_{k}) \\sim \\mathcal{T}_{n-p-1}$$\n",
    "\n",
    "Hypothèse nulle : $\\beta^{*}_{k}=0$. On a donc la statistique de test suivante :\n",
    "$$T = \\sqrt \\frac{n}{\\hat{s}_k^2 \\hat{\\sigma}^2_{k}}\\hat{\\beta}_{k} \\sim \\mathcal{T}_{n-p-1}$$"
   ]
  },
  {
   "cell_type": "code",
   "execution_count": 38,
   "metadata": {},
   "outputs": [],
   "source": [
    "from scipy.stats import t\n",
    "\n",
    "def calc_stat(X, y, col_name, h0):\n",
    "    \"\"\"\n",
    "    Calcul de la statistique de Student pour le coéfficient de régression correspondant\n",
    "    à la variable `col_name` avec hypothèse nulle : coéfficient = `h0`.\n",
    "    \"\"\"\n",
    "    # on fit le modèle\n",
    "    model = sm.OLS(y, X).fit()\n",
    "    # on récupère le numéro de colonne qui nous intéresse\n",
    "    col_number = np.where(col_name == X.columns)[0]\n",
    "    n, p = X.shape\n",
    "    # sigma chapeau\n",
    "    sig2 = model.resid @ model.resid / (n-p)\n",
    "    # s chapeau\n",
    "    s_hat = np.diag(np.linalg.inv(X.T @ X) * n)[col_number]\n",
    "    # stat de student\n",
    "    T_stat = float(np.sqrt(n/(s_hat*sig2)) * (model.params[col_name] - h0))\n",
    "    p_val = t.sf(np.abs(T_stat), X.shape[0] - X.shape[1])*2\n",
    "    print(f\"T-Stat: {T_stat:.3f}, p-value: {p_val:.2e}\")\n",
    "    return T_stat, p_val"
   ]
  },
  {
   "cell_type": "code",
   "execution_count": 39,
   "metadata": {},
   "outputs": [],
   "source": [
    "def test_stat(T_stat, q, X):\n",
    "    \"\"\"\n",
    "    Test de Student avec niveau de confiance `q`\n",
    "    \"\"\"\n",
    "    n, p = X.shape\n",
    "    n, p = X.shape\n",
    "    perc = t.ppf(q, n-p)\n",
    "    seuil = (1-q)*2\n",
    "    if perc < np.abs(T_stat):\n",
    "        print(f\"Avec seuil de significativité de {seuil*100:.2f}%, on rejette H0\")\n",
    "    else:\n",
    "        print(f\"Avec seuil de significativité de {seuil*100:.2f}%, on ne rejette pas H0\")"
   ]
  },
  {
   "cell_type": "code",
   "execution_count": 40,
   "metadata": {},
   "outputs": [
    {
     "name": "stdout",
     "output_type": "stream",
     "text": [
      "T-Stat: 1.376, p-value: 1.70e-01\n",
      "Avec seuil de significativité de 1.00%, on ne rejette pas H0\n",
      "Avec seuil de significativité de 5.00%, on ne rejette pas H0\n",
      "Avec seuil de significativité de 10.00%, on ne rejette pas H0\n",
      "Avec seuil de significativité de 16.96%, on rejette H0\n"
     ]
    }
   ],
   "source": [
    "T_stat, p_val = calc_stat(X, y, \"nwifeinc\", 0)\n",
    "test_stat(T_stat, 0.995, X)\n",
    "test_stat(T_stat, 0.975, X)\n",
    "test_stat(T_stat, 0.95, X)\n",
    "test_stat(T_stat, 1-p_val/2, X)"
   ]
  },
  {
   "cell_type": "markdown",
   "metadata": {},
   "source": [
    "La p-valeur est le plus petit seuil à partir duquel on peut rejeter H0\n",
    "\n",
    "## Question 9"
   ]
  },
  {
   "cell_type": "code",
   "execution_count": 41,
   "metadata": {},
   "outputs": [
    {
     "name": "stdout",
     "output_type": "stream",
     "text": [
      "T-Stat: -1.816, p-value: 7.01e-02\n",
      "Avec seuil de significativité de 5.00%, on ne rejette pas H0\n"
     ]
    }
   ],
   "source": [
    "# stat de student\n",
    "T_stat, p_val = calc_stat(X, y, \"nwifeinc\", 0.01)\n",
    "test_stat(T_stat, 0.975, X)"
   ]
  },
  {
   "cell_type": "markdown",
   "metadata": {},
   "source": [
    "## Question 10\n",
    "On pose $y$ = wage et $X$ = (constante, city, educ, exper, nwifeinc, kidslt6, kidsge6), ie $X_0$ = constante, $X_1$ = city, ... , $X_6$ = kidsge6.\n",
    "\n",
    "On a donc le modèle $\\hat{y} = \\beta_0 + \\beta_1 X_1 + \\beta_2 X_2 + \\beta_3 X_3 + \\beta_4 X_4 + \\beta_5 X_5 + \\beta_6 X_6$.\n",
    "\n",
    "On veut tester l'hypothèse $H_0:\\{ \\beta_4 = 0.01 , \\beta_1 = 0.05\\} \\iff \\{ \\theta = \\beta_4 - 0.01 = 0, \\theta' = \\beta_1 - 0.05 = 0 \\}$. On réécrit le modèle ainsi :\n",
    "$$\n",
    "\\hat{y} - 0.01 X_4 - 0.05 X_2 = \\beta_0 + \\theta' X_1 + \\beta_2 X_2 + \\beta_3 X_3 + \\theta X_4 + \\beta_5 X_5 + \\beta_6 X_6\n",
    "$$"
   ]
  },
  {
   "cell_type": "code",
   "execution_count": 42,
   "metadata": {},
   "outputs": [],
   "source": [
    "from scipy.stats import f\n",
    "\n",
    "def calc_ssr(X, y):\n",
    "    \"\"\"\n",
    "    Caclul de la somme des résidus au carré\n",
    "    \"\"\"\n",
    "    model = sm.OLS(y, X).fit()\n",
    "    u = model.resid\n",
    "    SSR = u.T @ u\n",
    "    return SSR\n",
    "\n",
    "def calc_fisher(SSR0, SSR1, c, ddl):\n",
    "    \"\"\"\n",
    "    Calcul de la statistique de Fisher avec `c` nombre de contraintes\n",
    "    et `ddl` nombre de degrés de liberté du modèle non contraint\n",
    "    \"\"\"\n",
    "    F = ((SSR1 - SSR0)/c) / (SSR0/ddl)\n",
    "    p_val = f.sf(F, c, ddl)\n",
    "    print(f\"F-stat : {F:.3f}, p-value : {p_val:.2e}\")\n",
    "    return F, p_val\n",
    "\n",
    "def fisher_test(X, y, constrained_cols, q):\n",
    "    \"\"\"\n",
    "    Test de Fisher avec contrainte sur les variables `constrained_cols`\n",
    "    et niveau de confiance `q`.\n",
    "    \"\"\"\n",
    "    n, p = X.shape\n",
    "    # on calcule la somme des carrés des résidus du modèle non contraint\n",
    "    SSR0 = calc_ssr(X, y)\n",
    "    # colonnes du modèle contraint\n",
    "    new_cols = list(set(X.columns) - set(constrained_cols))\n",
    "    # modèle contraint\n",
    "    X1 = X.loc[:, new_cols]\n",
    "    SSR1 = calc_ssr(X1, y)\n",
    "    c = len(constrained_cols) # nombre de contraintes\n",
    "    ddl = n - p # dégrés de liberté\n",
    "    # Stat de Fisher\n",
    "    F, p_val = calc_fisher(SSR0, SSR1, c, ddl)\n",
    "    perc = f.ppf(q, c, ddl)\n",
    "    if perc < F:\n",
    "        print(f\"Avec seuil de significativité de {(1-q)*100:.2f}%, on rejette H0\")\n",
    "    else:\n",
    "        print(f\"Avec seuil de significativité de {(1-q)*100:.2f}%, on ne rejette pas H0\")"
   ]
  },
  {
   "cell_type": "code",
   "execution_count": 43,
   "metadata": {},
   "outputs": [
    {
     "name": "stdout",
     "output_type": "stream",
     "text": [
      "F-stat : 1.983, p-value : 1.39e-01\n",
      "Avec seuil de significativité de 5.00%, on ne rejette pas H0\n"
     ]
    }
   ],
   "source": [
    "#df.loc[:,\"nwifeinc_city\"] = 0.01 * df[\"nwifeinc\"] + 0.05 * df[\"city\"]\n",
    "X = df[[\"city\", \"educ\", \"exper\", \"nwifeinc\", \"kidslt6\", \"kidsge6\"]]\n",
    "X = sm.add_constant(X)\n",
    "y = np.log(df[\"wage\"]) - 0.01 * df[\"nwifeinc\"] - 0.05 * df[\"city\"]\n",
    "model = sm.OLS(y, X).fit()\n",
    "\n",
    "fisher_test(X, y, [\"city\", \"nwifeinc\"], 0.95)"
   ]
  },
  {
   "cell_type": "code",
   "execution_count": 59,
   "metadata": {},
   "outputs": [
    {
     "data": {
      "text/html": [
       "<table class=\"simpletable\">\n",
       "<caption>OLS Regression Results</caption>\n",
       "<tr>\n",
       "  <th>Dep. Variable:</th>          <td>wage</td>       <th>  R-squared:         </th> <td>   0.173</td>\n",
       "</tr>\n",
       "<tr>\n",
       "  <th>Model:</th>                   <td>OLS</td>       <th>  Adj. R-squared:    </th> <td>   0.161</td>\n",
       "</tr>\n",
       "<tr>\n",
       "  <th>Method:</th>             <td>Least Squares</td>  <th>  F-statistic:       </th> <td>   14.41</td>\n",
       "</tr>\n",
       "<tr>\n",
       "  <th>Date:</th>             <td>Wed, 04 May 2022</td> <th>  Prob (F-statistic):</th> <td>6.13e-15</td>\n",
       "</tr>\n",
       "<tr>\n",
       "  <th>Time:</th>                 <td>13:50:02</td>     <th>  Log-Likelihood:    </th> <td> -392.18</td>\n",
       "</tr>\n",
       "<tr>\n",
       "  <th>No. Observations:</th>      <td>   419</td>      <th>  AIC:               </th> <td>   798.4</td>\n",
       "</tr>\n",
       "<tr>\n",
       "  <th>Df Residuals:</th>          <td>   412</td>      <th>  BIC:               </th> <td>   826.6</td>\n",
       "</tr>\n",
       "<tr>\n",
       "  <th>Df Model:</th>              <td>     6</td>      <th>                     </th>     <td> </td>   \n",
       "</tr>\n",
       "<tr>\n",
       "  <th>Covariance Type:</th>      <td>nonrobust</td>    <th>                     </th>     <td> </td>   \n",
       "</tr>\n",
       "</table>\n",
       "<table class=\"simpletable\">\n",
       "<tr>\n",
       "      <td></td>        <th>coef</th>     <th>std err</th>      <th>t</th>      <th>P>|t|</th>  <th>[0.025</th>    <th>0.975]</th>  \n",
       "</tr>\n",
       "<tr>\n",
       "  <th>const</th>    <td>   -0.4379</td> <td>    0.195</td> <td>   -2.243</td> <td> 0.025</td> <td>   -0.822</td> <td>   -0.054</td>\n",
       "</tr>\n",
       "<tr>\n",
       "  <th>city</th>     <td>    0.0236</td> <td>    0.066</td> <td>    0.359</td> <td> 0.720</td> <td>   -0.106</td> <td>    0.153</td>\n",
       "</tr>\n",
       "<tr>\n",
       "  <th>educ</th>     <td>    0.0993</td> <td>    0.014</td> <td>    6.991</td> <td> 0.000</td> <td>    0.071</td> <td>    0.127</td>\n",
       "</tr>\n",
       "<tr>\n",
       "  <th>exper</th>    <td>    0.0189</td> <td>    0.004</td> <td>    4.493</td> <td> 0.000</td> <td>    0.011</td> <td>    0.027</td>\n",
       "</tr>\n",
       "<tr>\n",
       "  <th>nwifeinc</th> <td>    0.0043</td> <td>    0.003</td> <td>    1.376</td> <td> 0.170</td> <td>   -0.002</td> <td>    0.010</td>\n",
       "</tr>\n",
       "<tr>\n",
       "  <th>kidslt6</th>  <td>   -0.0613</td> <td>    0.080</td> <td>   -0.764</td> <td> 0.445</td> <td>   -0.219</td> <td>    0.096</td>\n",
       "</tr>\n",
       "<tr>\n",
       "  <th>kidsge6</th>  <td>   -0.0002</td> <td>    0.025</td> <td>   -0.009</td> <td> 0.993</td> <td>   -0.050</td> <td>    0.049</td>\n",
       "</tr>\n",
       "</table>\n",
       "<table class=\"simpletable\">\n",
       "<tr>\n",
       "  <th>Omnibus:</th>       <td>124.505</td> <th>  Durbin-Watson:     </th> <td>   1.872</td>\n",
       "</tr>\n",
       "<tr>\n",
       "  <th>Prob(Omnibus):</th> <td> 0.000</td>  <th>  Jarque-Bera (JB):  </th> <td> 391.383</td>\n",
       "</tr>\n",
       "<tr>\n",
       "  <th>Skew:</th>          <td>-1.361</td>  <th>  Prob(JB):          </th> <td>1.03e-85</td>\n",
       "</tr>\n",
       "<tr>\n",
       "  <th>Kurtosis:</th>      <td> 6.874</td>  <th>  Cond. No.          </th> <td>    178.</td>\n",
       "</tr>\n",
       "</table><br/><br/>Notes:<br/>[1] Standard Errors assume that the covariance matrix of the errors is correctly specified."
      ],
      "text/plain": [
       "<class 'statsmodels.iolib.summary.Summary'>\n",
       "\"\"\"\n",
       "                            OLS Regression Results                            \n",
       "==============================================================================\n",
       "Dep. Variable:                   wage   R-squared:                       0.173\n",
       "Model:                            OLS   Adj. R-squared:                  0.161\n",
       "Method:                 Least Squares   F-statistic:                     14.41\n",
       "Date:                Wed, 04 May 2022   Prob (F-statistic):           6.13e-15\n",
       "Time:                        13:50:02   Log-Likelihood:                -392.18\n",
       "No. Observations:                 419   AIC:                             798.4\n",
       "Df Residuals:                     412   BIC:                             826.6\n",
       "Df Model:                           6                                         \n",
       "Covariance Type:            nonrobust                                         \n",
       "==============================================================================\n",
       "                 coef    std err          t      P>|t|      [0.025      0.975]\n",
       "------------------------------------------------------------------------------\n",
       "const         -0.4379      0.195     -2.243      0.025      -0.822      -0.054\n",
       "city           0.0236      0.066      0.359      0.720      -0.106       0.153\n",
       "educ           0.0993      0.014      6.991      0.000       0.071       0.127\n",
       "exper          0.0189      0.004      4.493      0.000       0.011       0.027\n",
       "nwifeinc       0.0043      0.003      1.376      0.170      -0.002       0.010\n",
       "kidslt6       -0.0613      0.080     -0.764      0.445      -0.219       0.096\n",
       "kidsge6       -0.0002      0.025     -0.009      0.993      -0.050       0.049\n",
       "==============================================================================\n",
       "Omnibus:                      124.505   Durbin-Watson:                   1.872\n",
       "Prob(Omnibus):                  0.000   Jarque-Bera (JB):              391.383\n",
       "Skew:                          -1.361   Prob(JB):                     1.03e-85\n",
       "Kurtosis:                       6.874   Cond. No.                         178.\n",
       "==============================================================================\n",
       "\n",
       "Notes:\n",
       "[1] Standard Errors assume that the covariance matrix of the errors is correctly specified.\n",
       "\"\"\""
      ]
     },
     "execution_count": 59,
     "metadata": {},
     "output_type": "execute_result"
    }
   ],
   "source": [
    "model.summary()"
   ]
  },
  {
   "cell_type": "markdown",
   "metadata": {},
   "source": [
    "## Question 11"
   ]
  },
  {
   "cell_type": "markdown",
   "metadata": {},
   "source": [
    "\n",
    "\n",
    "On veut tester l'hypothèse jointe $\\beta_1 + \\beta_4 = 0.1$ et $\\beta_2 + \\beta_3 = 0.1$.\n",
    "On peut écrire :\n",
    "$$\n",
    "\\theta_1 = \\beta_1 + \\beta_4 - 0.1 = 0 \\mbox{ et } \\theta_2 = \\beta_2 + \\beta_3 - 0.1 = 0\n",
    "$$\n",
    "$$\n",
    "\\iff\n",
    "$$\n",
    "$$ \\beta_1 = \\theta_1 - \\beta_4 + 0.1 \\mbox{ et } \\beta_2 = \\theta_2 - \\beta_3 + 0.1 $$\n",
    "\n",
    "On réécrit ainsi le modèle:\n",
    "$$\n",
    "\\hat{y} - 0.1 X_1 - 0.1 X_2 = \\beta_0 + \\theta_1 X_1 +  \\theta_2 X_2 + \\beta_3 (X_3 - X_2) + \\beta_4 (X_4 - X_1) + \\beta_5 X_5 + \\beta_6 X_6\n",
    "$$\n",
    "\n",
    "Et on réalise un test de Fisher sur $H_0$ : \\{ $\\theta_1 = 0 \\mbox{ et } \\theta_2 = 0 \\}$\n"
   ]
  },
  {
   "cell_type": "code",
   "execution_count": 45,
   "metadata": {},
   "outputs": [
    {
     "name": "stdout",
     "output_type": "stream",
     "text": [
      "F-stat : 1.257, p-value : 2.86e-01\n",
      "Avec seuil de significativité de 5.00%, on ne rejette pas H0\n"
     ]
    }
   ],
   "source": [
    "y = np.log(df[\"wage\"]) - 0.1 * df[\"city\"] - 0.1 * df[\"educ\"]\n",
    "\n",
    "df.loc[:, \"newvar1\"] = df[\"exper\"] - df[\"educ\"]\n",
    "df.loc[:, \"newvar2\"] = df[\"nwifeinc\"] - df[\"city\"]\n",
    "\n",
    "X = df[[\"city\", \"educ\", \"newvar1\", \"newvar2\", \"kidslt6\", \"kidsge6\"]]\n",
    "X = sm.add_constant(X)\n",
    "\n",
    "fisher_test(X, y, [\"city\", \"educ\"], 0.95)"
   ]
  },
  {
   "cell_type": "markdown",
   "metadata": {},
   "source": [
    "## Question 12"
   ]
  },
  {
   "cell_type": "code",
   "execution_count": 46,
   "metadata": {},
   "outputs": [
    {
     "data": {
      "image/png": "[encoded data removed]",
      "text/plain": [
       "<Figure size 1008x288 with 2 Axes>"
      ]
     },
     "metadata": {
      "needs_background": "light"
     },
     "output_type": "display_data"
    }
   ],
   "source": [
    "fig, axes = plt.subplots(1, 2, figsize=(14, 4))\n",
    "axes[0].scatter(df[\"educ\"], df[\"wage\"])\n",
    "axes[0].set_xlabel(\"educ\")\n",
    "axes[0].set_ylabel(\"wage\")\n",
    "axes[0].set_title(\"wage en fonction de educ\")\n",
    "axes[1].scatter(df[\"exper\"], df[\"wage\"])\n",
    "axes[1].set_xlabel(\"exper\")\n",
    "axes[1].set_ylabel(\"wage\")\n",
    "axes[1].set_title(\"wage en fonction de exper\")\n",
    "plt.show()"
   ]
  },
  {
   "cell_type": "code",
   "execution_count": 47,
   "metadata": {},
   "outputs": [
    {
     "data": {
      "image/png": "[encoded data removed]",
      "text/plain": [
       "<Figure size 864x576 with 1 Axes>"
      ]
     },
     "metadata": {
      "needs_background": "light"
     },
     "output_type": "display_data"
    }
   ],
   "source": [
    "X = df[[\"educ\", \"exper\"]]\n",
    "X = sm.add_constant(X)\n",
    "y = df[\"wage\"]\n",
    "model = sm.OLS(y, X)\n",
    "results = model.fit()\n",
    "\n",
    "xx = np.linspace(df[\"educ\"].min(), df[\"educ\"].max(),10)\n",
    "yy = np.linspace(df[\"exper\"].min(), df[\"exper\"].max(),10)\n",
    "xx, yy = np.meshgrid(xx, yy)\n",
    "\n",
    "exog = np.column_stack((xx.ravel(), yy.ravel()))\n",
    "exog = sm.add_constant(exog)\n",
    "\n",
    "zz = model.predict(params=results.params, exog=exog).reshape(xx.shape)\n",
    "\n",
    "fig = plt.figure(figsize=(12,8))\n",
    "ax = fig.add_subplot(projection='3d')\n",
    "#ax.plot_surface(xx, yy, zz, cmap=cm.coolwarm, linewidth=0, antialiased=False)\n",
    "ax.plot_wireframe(xx,yy,zz)\n",
    "ax.scatter(df[\"educ\"], df[\"exper\"], df[\"wage\"], alpha=0.7)\n",
    "ax.set_xlabel('education')\n",
    "ax.set_ylabel('experience')\n",
    "ax.set_zlabel('wage')\n",
    "ax.view_init(10, -60)\n",
    "ax.set_title(\"wage en fonction de l'experience et l'éducation\")\n",
    "plt.show()\n"
   ]
  },
  {
   "cell_type": "code",
   "execution_count": 48,
   "metadata": {},
   "outputs": [
    {
     "name": "stdout",
     "output_type": "stream",
     "text": [
      "Coéfficients de regression :\n",
      "const   -2.396575\n",
      "educ     0.439993\n",
      "exper    0.050970\n",
      "dtype: float64\n"
     ]
    }
   ],
   "source": [
    "print(f\"Coéfficients de regression :\\n{results.params}\")"
   ]
  },
  {
   "cell_type": "markdown",
   "metadata": {},
   "source": [
    "On peut remarquer que le coéfficient de l'hyperplan de regression est plus important sur l'axe *educ* que sur l'axe *exper*."
   ]
  },
  {
   "cell_type": "markdown",
   "metadata": {},
   "source": [
    "## Question 13\n",
    "En reprenant les notations de la question 11, on veut tester  $H_0 : \\beta_5 = \\beta_6 \\iff \\theta = \\beta_5 - \\beta_6 = 0$. On peut donc réécrire le modèle avec $\\beta_5 = \\theta + \\beta_6$.\n",
    "\n",
    "On a donc :\n",
    "$$\n",
    "\\hat{y} = \\beta_0 + \\beta_1 X_1 + \\beta_2 X_2 + \\beta_3 X_3 + \\beta_4 X_4 + (\\theta + \\beta_6) X_5 + \\beta_6 X_6 \\\\\n",
    "\\iff \\\\\n",
    "\\hat{y} = \\beta_0 + \\beta_1 X_1 + \\beta_2 X_2 + \\beta_3 X_3 + \\beta_4 X_4 + \\theta X_5 + \\beta_6 (X_5 + X_6)\n",
    "$$"
   ]
  },
  {
   "cell_type": "code",
   "execution_count": 49,
   "metadata": {},
   "outputs": [
    {
     "name": "stdout",
     "output_type": "stream",
     "text": [
      "T-Stat: -0.720, p-value: 4.72e-01\n",
      "Avec seuil de significativité de 5.00%, on ne rejette pas H0\n"
     ]
    }
   ],
   "source": [
    "y = np.log(df[\"wage\"])\n",
    "df.loc[:, \"newvar1\"] = df[\"kidsge6\"] + df[\"kidslt6\"]\n",
    "X = df[[\"city\", \"educ\", \"exper\", \"nwifeinc\", \"kidslt6\", \"newvar1\"]]\n",
    "X = sm.add_constant(X)\n",
    "\n",
    "T_stat, p_val = calc_stat(X, y, \"kidslt6\", 0)\n",
    "test_stat(T_stat, 0.975, X)"
   ]
  },
  {
   "cell_type": "markdown",
   "metadata": {},
   "source": [
    "Interpretation **??**\n",
    "\n",
    "## Question 14"
   ]
  },
  {
   "cell_type": "code",
   "execution_count": 50,
   "metadata": {},
   "outputs": [
    {
     "name": "stdout",
     "output_type": "stream",
     "text": [
      "F-stat : 1.413, p-value : 2.08e-01\n",
      "Avec seuil de significativité de 5.00%, on ne rejette pas H0\n"
     ]
    }
   ],
   "source": [
    "X = df[[\"city\", \"educ\", \"exper\", \"nwifeinc\", \"kidslt6\", \"kidsge6\"]]\n",
    "X = sm.add_constant(X)\n",
    "y = np.log(df[\"wage\"])\n",
    "model = sm.OLS(y, X).fit()\n",
    "# résidus au carré\n",
    "u2 = model.resid ** 2\n",
    "# test de fisher avec comme nouvelle target 'u2' et modèle contraint\n",
    "# conservant uniquement la constante\n",
    "fisher_test(X, u2, [\"city\", \"educ\", \"exper\", \"nwifeinc\", \"kidslt6\", \"kidsge6\"], 0.95)"
   ]
  },
  {
   "cell_type": "markdown",
   "metadata": {},
   "source": [
    "On ne peut donc pas rejeter l'hypothèse d'homoscédasticité. La p-valeur étant de 0.208, il faudrait accépter un taux d'erreur de plus de 20% pour rejeter l'hypothèse nulle."
   ]
  },
  {
   "cell_type": "markdown",
   "metadata": {},
   "source": [
    "## Question 15"
   ]
  },
  {
   "cell_type": "code",
   "execution_count": 51,
   "metadata": {},
   "outputs": [
    {
     "name": "stdout",
     "output_type": "stream",
     "text": [
      "F-stat : 1.084, p-value : 3.72e-01\n"
     ]
    }
   ],
   "source": [
    "cols = [\"city\", \"educ\", \"exper\", \"nwifeinc\", \"kidslt6\", \"kidsge6\"]\n",
    "# on divise le dataset en 2 pour appliquer la méthode simple\n",
    "mask = df[\"age\"] >= 43\n",
    "df1 = df.loc[mask, cols]\n",
    "df2 = df.loc[~mask, cols]\n",
    "y1 = np.log(df.loc[mask, \"wage\"])\n",
    "y2 = np.log(df.loc[~mask, \"wage\"])\n",
    "X1 = sm.add_constant(df1)\n",
    "X2 = sm.add_constant(df2)\n",
    "\n",
    "# on calcule les SSR pour les 2 datasets ainsi créés\n",
    "SSR01 = calc_ssr(X1,y1)\n",
    "SSR02 = calc_ssr(X2, y2)\n",
    "SSR0 = SSR01 + SSR02\n",
    "\n",
    "# modèle contraint\n",
    "X = df.loc[:, cols]\n",
    "X = sm.add_constant(X)\n",
    "SSR1 = calc_ssr(X, y)\n",
    "\n",
    "c = X1.shape[1]\n",
    "ddl = X.shape[0] - c*2\n",
    "\n",
    "F, p_val = calc_fisher(SSR0, SSR1, c, ddl)"
   ]
  },
  {
   "cell_type": "markdown",
   "metadata": {},
   "source": [
    "On ne rejette pas l'hypothèse de non significativité des variables binaires. Donc a priori pas de changement de structure.\n",
    "\n",
    "## Question 16"
   ]
  },
  {
   "cell_type": "code",
   "execution_count": 52,
   "metadata": {},
   "outputs": [
    {
     "data": {
      "image/png": "[encoded data removed]",
      "text/plain": [
       "<Figure size 432x288 with 1 Axes>"
      ]
     },
     "metadata": {
      "needs_background": "light"
     },
     "output_type": "display_data"
    }
   ],
   "source": [
    "plt.figure(figsize=(6,4))\n",
    "plt.hist(df[\"huseduc\"], bins=4)\n",
    "plt.title(\"Discrétisation de la variable huseduc en 4 bins\")\n",
    "plt.show()\n",
    "\n",
    "# 4 bins uniformément répartis sur l'espace des valeurs prises par `huseduc`\n",
    "df.loc[:, \"huseduc_cat\"] = pd.cut(df[\"huseduc\"], bins=4, labels=[f\"huseduc_{i}\" for i in range(4)])\n",
    "# 4 bins équilibrées, ie contenant à peu près le même nombre d'observations\n",
    "df.loc[:, \"huseduc_qcat\"] = pd.qcut(df[\"huseduc\"], q=4, labels=[f\"huseduc_q{i}\" for i in range(4)])"
   ]
  },
  {
   "cell_type": "code",
   "execution_count": 58,
   "metadata": {},
   "outputs": [
    {
     "data": {
      "text/plain": [
       "0      huseduc_q1\n",
       "1      huseduc_q0\n",
       "2      huseduc_q1\n",
       "3      huseduc_q0\n",
       "4      huseduc_q1\n",
       "          ...    \n",
       "423    huseduc_q1\n",
       "424    huseduc_q0\n",
       "425    huseduc_q0\n",
       "426    huseduc_q1\n",
       "427    huseduc_q0\n",
       "Name: huseduc_qcat, Length: 419, dtype: category\n",
       "Categories (4, object): ['huseduc_q0' < 'huseduc_q1' < 'huseduc_q2' < 'huseduc_q3']"
      ]
     },
     "execution_count": 58,
     "metadata": {},
     "output_type": "execute_result"
    }
   ],
   "source": [
    "df[\"huseduc_qcat\"]"
   ]
  },
  {
   "cell_type": "code",
   "execution_count": null,
   "metadata": {},
   "outputs": [],
   "source": []
  },
  {
   "cell_type": "code",
   "execution_count": 53,
   "metadata": {},
   "outputs": [
    {
     "name": "stdout",
     "output_type": "stream",
     "text": [
      "F-stat : 0.522, p-value : 7.20e-01\n",
      "Avec seuil de significativité de 5.00%, on ne rejette pas H0\n"
     ]
    }
   ],
   "source": [
    "# On teste avec les bins uniformes\n",
    "X = pd.concat((df.loc[:, cols], pd.get_dummies(df[\"huseduc_cat\"])), axis=1)\n",
    "X = sm.add_constant(X)\n",
    "y = np.log(df[\"wage\"])\n",
    "fisher_test(X, y, [\"huseduc_0\",\"huseduc_1\",\"huseduc_2\", \"huseduc_3\"], 0.95)"
   ]
  },
  {
   "cell_type": "code",
   "execution_count": 31,
   "metadata": {},
   "outputs": [
    {
     "name": "stdout",
     "output_type": "stream",
     "text": [
      "F-stat : 0.990, p-value : 4.13e-01\n",
      "Avec seuil de significativité de 5.00%, on ne rejette pas H0\n"
     ]
    }
   ],
   "source": [
    "# on teste avec les bins équilibrés\n",
    "X = pd.concat((df.loc[:, cols], pd.get_dummies(df[\"huseduc_qcat\"])), axis=1)\n",
    "X = sm.add_constant(X)\n",
    "y = np.log(df[\"wage\"])\n",
    "fisher_test(X, y, [\"huseduc_q0\",\"huseduc_q1\",\"huseduc_q2\", \"huseduc_q3\"], 0.95)"
   ]
  },
  {
   "cell_type": "markdown",
   "metadata": {},
   "source": [
    "Dans les deux cas on ne peut pas rejeter l'hypothèse de non significativité des variables binaires."
   ]
  },
  {
   "cell_type": "markdown",
   "metadata": {},
   "source": [
    "# Partie 2\n",
    "\n",
    "## Question 1"
   ]
  },
  {
   "cell_type": "code",
   "execution_count": 32,
   "metadata": {},
   "outputs": [
    {
     "data": {
      "text/html": [
       "<div>\n",
       "<style scoped>\n",
       "    .dataframe tbody tr th:only-of-type {\n",
       "        vertical-align: middle;\n",
       "    }\n",
       "\n",
       "    .dataframe tbody tr th {\n",
       "        vertical-align: top;\n",
       "    }\n",
       "\n",
       "    .dataframe thead th {\n",
       "        text-align: right;\n",
       "    }\n",
       "</style>\n",
       "<table border=\"1\" class=\"dataframe\">\n",
       "  <thead>\n",
       "    <tr style=\"text-align: right;\">\n",
       "      <th></th>\n",
       "      <th>DATE</th>\n",
       "      <th>FFR</th>\n",
       "      <th>Tbill</th>\n",
       "      <th>Tb1yr</th>\n",
       "      <th>r5</th>\n",
       "      <th>r10</th>\n",
       "      <th>PPINSA</th>\n",
       "      <th>Finished</th>\n",
       "      <th>CPI</th>\n",
       "      <th>CPICORE</th>\n",
       "      <th>M1NSA</th>\n",
       "      <th>M2SA</th>\n",
       "      <th>M2NSA</th>\n",
       "      <th>Unemp</th>\n",
       "      <th>IndProd</th>\n",
       "      <th>RGDP</th>\n",
       "      <th>Potent</th>\n",
       "      <th>Deflator</th>\n",
       "      <th>Curr</th>\n",
       "    </tr>\n",
       "  </thead>\n",
       "  <tbody>\n",
       "    <tr>\n",
       "      <th>0</th>\n",
       "      <td>1960Q1</td>\n",
       "      <td>3.93</td>\n",
       "      <td>3.87</td>\n",
       "      <td>4.57</td>\n",
       "      <td>4.64</td>\n",
       "      <td>4.49</td>\n",
       "      <td>31.67</td>\n",
       "      <td>33.20</td>\n",
       "      <td>29.40</td>\n",
       "      <td>18.92</td>\n",
       "      <td>140.53</td>\n",
       "      <td>896.1</td>\n",
       "      <td>299.40</td>\n",
       "      <td>5.13</td>\n",
       "      <td>23.93</td>\n",
       "      <td>2845.3</td>\n",
       "      <td>2824.2</td>\n",
       "      <td>18.521</td>\n",
       "      <td>31.830</td>\n",
       "    </tr>\n",
       "    <tr>\n",
       "      <th>1</th>\n",
       "      <td>1960Q2</td>\n",
       "      <td>3.70</td>\n",
       "      <td>2.99</td>\n",
       "      <td>3.87</td>\n",
       "      <td>4.30</td>\n",
       "      <td>4.26</td>\n",
       "      <td>31.73</td>\n",
       "      <td>33.40</td>\n",
       "      <td>29.57</td>\n",
       "      <td>19.00</td>\n",
       "      <td>138.40</td>\n",
       "      <td>903.3</td>\n",
       "      <td>300.03</td>\n",
       "      <td>5.23</td>\n",
       "      <td>23.41</td>\n",
       "      <td>2832.0</td>\n",
       "      <td>2851.2</td>\n",
       "      <td>18.579</td>\n",
       "      <td>31.862</td>\n",
       "    </tr>\n",
       "    <tr>\n",
       "      <th>2</th>\n",
       "      <td>1960Q3</td>\n",
       "      <td>2.94</td>\n",
       "      <td>2.36</td>\n",
       "      <td>3.07</td>\n",
       "      <td>3.67</td>\n",
       "      <td>3.83</td>\n",
       "      <td>31.63</td>\n",
       "      <td>33.43</td>\n",
       "      <td>29.59</td>\n",
       "      <td>19.07</td>\n",
       "      <td>139.60</td>\n",
       "      <td>919.4</td>\n",
       "      <td>305.50</td>\n",
       "      <td>5.53</td>\n",
       "      <td>23.02</td>\n",
       "      <td>2836.6</td>\n",
       "      <td>2878.7</td>\n",
       "      <td>18.648</td>\n",
       "      <td>32.217</td>\n",
       "    </tr>\n",
       "    <tr>\n",
       "      <th>3</th>\n",
       "      <td>1960Q4</td>\n",
       "      <td>2.30</td>\n",
       "      <td>2.31</td>\n",
       "      <td>2.99</td>\n",
       "      <td>3.75</td>\n",
       "      <td>3.89</td>\n",
       "      <td>31.70</td>\n",
       "      <td>33.67</td>\n",
       "      <td>29.78</td>\n",
       "      <td>19.14</td>\n",
       "      <td>142.67</td>\n",
       "      <td>932.8</td>\n",
       "      <td>312.30</td>\n",
       "      <td>6.27</td>\n",
       "      <td>22.47</td>\n",
       "      <td>2800.2</td>\n",
       "      <td>2906.7</td>\n",
       "      <td>18.700</td>\n",
       "      <td>32.624</td>\n",
       "    </tr>\n",
       "    <tr>\n",
       "      <th>4</th>\n",
       "      <td>1961Q1</td>\n",
       "      <td>2.00</td>\n",
       "      <td>2.35</td>\n",
       "      <td>2.87</td>\n",
       "      <td>3.64</td>\n",
       "      <td>3.79</td>\n",
       "      <td>31.80</td>\n",
       "      <td>33.63</td>\n",
       "      <td>29.84</td>\n",
       "      <td>19.17</td>\n",
       "      <td>142.23</td>\n",
       "      <td>948.9</td>\n",
       "      <td>317.10</td>\n",
       "      <td>6.80</td>\n",
       "      <td>22.13</td>\n",
       "      <td>2816.9</td>\n",
       "      <td>2934.8</td>\n",
       "      <td>18.743</td>\n",
       "      <td>32.073</td>\n",
       "    </tr>\n",
       "    <tr>\n",
       "      <th>...</th>\n",
       "      <td>...</td>\n",
       "      <td>...</td>\n",
       "      <td>...</td>\n",
       "      <td>...</td>\n",
       "      <td>...</td>\n",
       "      <td>...</td>\n",
       "      <td>...</td>\n",
       "      <td>...</td>\n",
       "      <td>...</td>\n",
       "      <td>...</td>\n",
       "      <td>...</td>\n",
       "      <td>...</td>\n",
       "      <td>...</td>\n",
       "      <td>...</td>\n",
       "      <td>...</td>\n",
       "      <td>...</td>\n",
       "      <td>...</td>\n",
       "      <td>...</td>\n",
       "      <td>...</td>\n",
       "    </tr>\n",
       "    <tr>\n",
       "      <th>207</th>\n",
       "      <td>2011Q4</td>\n",
       "      <td>0.07</td>\n",
       "      <td>0.01</td>\n",
       "      <td>0.11</td>\n",
       "      <td>0.95</td>\n",
       "      <td>2.05</td>\n",
       "      <td>200.77</td>\n",
       "      <td>192.97</td>\n",
       "      <td>226.97</td>\n",
       "      <td>112.50</td>\n",
       "      <td>2165.77</td>\n",
       "      <td>28787.3</td>\n",
       "      <td>9599.47</td>\n",
       "      <td>8.67</td>\n",
       "      <td>95.33</td>\n",
       "      <td>13441.0</td>\n",
       "      <td>14255.9</td>\n",
       "      <td>113.987</td>\n",
       "      <td>1055.496</td>\n",
       "    </tr>\n",
       "    <tr>\n",
       "      <th>208</th>\n",
       "      <td>2012Q1</td>\n",
       "      <td>0.10</td>\n",
       "      <td>0.07</td>\n",
       "      <td>0.16</td>\n",
       "      <td>0.90</td>\n",
       "      <td>2.04</td>\n",
       "      <td>202.17</td>\n",
       "      <td>193.73</td>\n",
       "      <td>228.27</td>\n",
       "      <td>113.12</td>\n",
       "      <td>2213.97</td>\n",
       "      <td>29238.6</td>\n",
       "      <td>9777.03</td>\n",
       "      <td>8.27</td>\n",
       "      <td>96.70</td>\n",
       "      <td>13506.4</td>\n",
       "      <td>14317.4</td>\n",
       "      <td>114.599</td>\n",
       "      <td>1082.519</td>\n",
       "    </tr>\n",
       "    <tr>\n",
       "      <th>209</th>\n",
       "      <td>2012Q2</td>\n",
       "      <td>0.15</td>\n",
       "      <td>0.09</td>\n",
       "      <td>0.19</td>\n",
       "      <td>0.79</td>\n",
       "      <td>1.82</td>\n",
       "      <td>201.80</td>\n",
       "      <td>192.83</td>\n",
       "      <td>228.84</td>\n",
       "      <td>113.60</td>\n",
       "      <td>2258.30</td>\n",
       "      <td>29611.6</td>\n",
       "      <td>9888.97</td>\n",
       "      <td>8.17</td>\n",
       "      <td>97.27</td>\n",
       "      <td>13548.5</td>\n",
       "      <td>14379.3</td>\n",
       "      <td>115.035</td>\n",
       "      <td>1104.500</td>\n",
       "    </tr>\n",
       "    <tr>\n",
       "      <th>210</th>\n",
       "      <td>2012Q3</td>\n",
       "      <td>0.14</td>\n",
       "      <td>0.10</td>\n",
       "      <td>0.18</td>\n",
       "      <td>0.67</td>\n",
       "      <td>1.64</td>\n",
       "      <td>202.40</td>\n",
       "      <td>195.20</td>\n",
       "      <td>230.03</td>\n",
       "      <td>113.91</td>\n",
       "      <td>2326.47</td>\n",
       "      <td>30251.4</td>\n",
       "      <td>10029.87</td>\n",
       "      <td>8.03</td>\n",
       "      <td>97.39</td>\n",
       "      <td>13652.5</td>\n",
       "      <td>14441.9</td>\n",
       "      <td>115.810</td>\n",
       "      <td>1119.187</td>\n",
       "    </tr>\n",
       "    <tr>\n",
       "      <th>211</th>\n",
       "      <td>2012Q4</td>\n",
       "      <td>0.16</td>\n",
       "      <td>0.09</td>\n",
       "      <td>0.17</td>\n",
       "      <td>0.69</td>\n",
       "      <td>1.71</td>\n",
       "      <td>202.27</td>\n",
       "      <td>196.20</td>\n",
       "      <td>231.28</td>\n",
       "      <td>114.18</td>\n",
       "      <td>2436.73</td>\n",
       "      <td>30938.8</td>\n",
       "      <td>10319.60</td>\n",
       "      <td>7.83</td>\n",
       "      <td>98.01</td>\n",
       "      <td>13665.4</td>\n",
       "      <td>14505.4</td>\n",
       "      <td>116.089</td>\n",
       "      <td>1147.623</td>\n",
       "    </tr>\n",
       "  </tbody>\n",
       "</table>\n",
       "<p>212 rows × 19 columns</p>\n",
       "</div>"
      ],
      "text/plain": [
       "       DATE   FFR  Tbill  Tb1yr    r5   r10  PPINSA  Finished     CPI  \\\n",
       "0    1960Q1  3.93   3.87   4.57  4.64  4.49   31.67     33.20   29.40   \n",
       "1    1960Q2  3.70   2.99   3.87  4.30  4.26   31.73     33.40   29.57   \n",
       "2    1960Q3  2.94   2.36   3.07  3.67  3.83   31.63     33.43   29.59   \n",
       "3    1960Q4  2.30   2.31   2.99  3.75  3.89   31.70     33.67   29.78   \n",
       "4    1961Q1  2.00   2.35   2.87  3.64  3.79   31.80     33.63   29.84   \n",
       "..      ...   ...    ...    ...   ...   ...     ...       ...     ...   \n",
       "207  2011Q4  0.07   0.01   0.11  0.95  2.05  200.77    192.97  226.97   \n",
       "208  2012Q1  0.10   0.07   0.16  0.90  2.04  202.17    193.73  228.27   \n",
       "209  2012Q2  0.15   0.09   0.19  0.79  1.82  201.80    192.83  228.84   \n",
       "210  2012Q3  0.14   0.10   0.18  0.67  1.64  202.40    195.20  230.03   \n",
       "211  2012Q4  0.16   0.09   0.17  0.69  1.71  202.27    196.20  231.28   \n",
       "\n",
       "     CPICORE    M1NSA     M2SA     M2NSA  Unemp  IndProd     RGDP   Potent  \\\n",
       "0      18.92   140.53    896.1    299.40   5.13    23.93   2845.3   2824.2   \n",
       "1      19.00   138.40    903.3    300.03   5.23    23.41   2832.0   2851.2   \n",
       "2      19.07   139.60    919.4    305.50   5.53    23.02   2836.6   2878.7   \n",
       "3      19.14   142.67    932.8    312.30   6.27    22.47   2800.2   2906.7   \n",
       "4      19.17   142.23    948.9    317.10   6.80    22.13   2816.9   2934.8   \n",
       "..       ...      ...      ...       ...    ...      ...      ...      ...   \n",
       "207   112.50  2165.77  28787.3   9599.47   8.67    95.33  13441.0  14255.9   \n",
       "208   113.12  2213.97  29238.6   9777.03   8.27    96.70  13506.4  14317.4   \n",
       "209   113.60  2258.30  29611.6   9888.97   8.17    97.27  13548.5  14379.3   \n",
       "210   113.91  2326.47  30251.4  10029.87   8.03    97.39  13652.5  14441.9   \n",
       "211   114.18  2436.73  30938.8  10319.60   7.83    98.01  13665.4  14505.4   \n",
       "\n",
       "     Deflator      Curr  \n",
       "0      18.521    31.830  \n",
       "1      18.579    31.862  \n",
       "2      18.648    32.217  \n",
       "3      18.700    32.624  \n",
       "4      18.743    32.073  \n",
       "..        ...       ...  \n",
       "207   113.987  1055.496  \n",
       "208   114.599  1082.519  \n",
       "209   115.035  1104.500  \n",
       "210   115.810  1119.187  \n",
       "211   116.089  1147.623  \n",
       "\n",
       "[212 rows x 19 columns]"
      ]
     },
     "execution_count": 32,
     "metadata": {},
     "output_type": "execute_result"
    }
   ],
   "source": [
    "df = pd.read_excel(\"quarterly.xls\")\n",
    "df"
   ]
  },
  {
   "cell_type": "markdown",
   "metadata": {},
   "source": [
    "## Question 2"
   ]
  },
  {
   "cell_type": "code",
   "execution_count": 33,
   "metadata": {
    "scrolled": true
   },
   "outputs": [
    {
     "data": {
      "image/png": "[encoded data removed]",
      "text/plain": [
       "<Figure size 792x288 with 1 Axes>"
      ]
     },
     "metadata": {
      "needs_background": "light"
     },
     "output_type": "display_data"
    }
   ],
   "source": [
    "plt.figure(figsize=(11,4))\n",
    "plt.plot(df[\"DATE\"], df[\"CPI\"])\n",
    "plt.xticks([x for i, x in enumerate(df[\"DATE\"]) if i%10==0], rotation=90)\n",
    "plt.title(\"Evolution du CPI au cours du temps\")\n",
    "plt.show()"
   ]
  },
  {
   "cell_type": "code",
   "execution_count": 34,
   "metadata": {},
   "outputs": [
    {
     "data": {
      "image/png": "[encoded data removed]",
      "text/plain": [
       "<Figure size 1080x1080 with 8 Axes>"
      ]
     },
     "metadata": {
      "needs_background": "light"
     },
     "output_type": "display_data"
    }
   ],
   "source": [
    "from sklearn.metrics import mean_squared_error\n",
    "\n",
    "X = np.arange(1, len(df)+1)\n",
    "y = df[\"CPI\"]\n",
    "func_type = [\"linéaire\", \"quadratique\", \"log\", \"exp\"]\n",
    "X_list = [X, np.column_stack((X, X**2)), np.log(X), np.exp(X)]\n",
    "\n",
    "fig, axes = plt.subplots(len(func_type), 2, figsize=(15, 15))\n",
    "all_preds = []\n",
    "\n",
    "for i, X in enumerate(X_list):\n",
    "    X = sm.add_constant(X)\n",
    "    model = sm.OLS(y, X)\n",
    "    results = model.fit()\n",
    "    preds = model.predict(results.params)\n",
    "    all_preds.append(preds)\n",
    "    rmse = np.sqrt(mean_squared_error(y, preds))\n",
    "    axes[i, 0].plot(y, label=\"CPI\")\n",
    "    axes[i, 0].plot(preds, label=\"prédictions\")\n",
    "    axes[i, 0].set_title(f\"Fit du modèle {func_type[i]} (RMSE: {rmse:.1f})\")\n",
    "    axes[i, 0].legend()\n",
    "    axes[i, 1].plot(results.resid)\n",
    "    axes[i, 1].set_title(f\"Résidu du modèle {func_type[i]}\")\n",
    "\n",
    "plt.show()"
   ]
  },
  {
   "cell_type": "markdown",
   "metadata": {},
   "source": [
    "La méthode de regression avec la tendance quadratique semble la mieux adaptée (RMSE plus petite)."
   ]
  },
  {
   "cell_type": "markdown",
   "metadata": {},
   "source": [
    "## Question 3"
   ]
  },
  {
   "cell_type": "code",
   "execution_count": 35,
   "metadata": {},
   "outputs": [
    {
     "data": {
      "image/png": "[encoded data removed]",
      "text/plain": [
       "<Figure size 792x288 with 1 Axes>"
      ]
     },
     "metadata": {
      "needs_background": "light"
     },
     "output_type": "display_data"
    }
   ],
   "source": [
    "weights = np.array([1/25, 2/25, 3/25, 4/25, 5/25, 4/25, 3/25, 2/25, 1/25])\n",
    "df.loc[:, \"CPI_rollmean\"] = df[\"CPI\"].rolling(9, center=True).apply(lambda x: np.sum(weights*x))\n",
    "\n",
    "plt.figure(figsize=(11,4))\n",
    "plt.plot(df[\"DATE\"], df[\"CPI\"] - df[\"CPI_rollmean\"])\n",
    "plt.xticks([x for i, x in enumerate(df[\"DATE\"]) if i%10==0], rotation=90)\n",
    "plt.title(\"CPI stationarisé par moyenne mobile centrée 5x5\")\n",
    "plt.show()"
   ]
  },
  {
   "cell_type": "markdown",
   "metadata": {},
   "source": [
    "## Question 4"
   ]
  },
  {
   "cell_type": "code",
   "execution_count": 36,
   "metadata": {},
   "outputs": [
    {
     "data": {
      "image/png": "[encoded data removed]",
      "text/plain": [
       "<Figure size 792x360 with 1 Axes>"
      ]
     },
     "metadata": {
      "needs_background": "light"
     },
     "output_type": "display_data"
    }
   ],
   "source": [
    "df.loc[:, \"inf\"] = df[\"CPI\"] / df[\"CPI\"].shift(1) - 1\n",
    "plt.figure(figsize=(11, 5))\n",
    "plt.plot(df[\"DATE\"], df[\"inf\"])\n",
    "plt.title(\"Evolution de l'inflation au cours du temps\")\n",
    "plt.xticks([x for i, x in enumerate(df[\"DATE\"]) if i%10==0], rotation=90)\n",
    "plt.show()"
   ]
  },
  {
   "cell_type": "markdown",
   "metadata": {},
   "source": [
    "Commentaire : taux d'inflation avait tendance à augmenter jusqu'au premier choc pétrolier de 79. Depuis la tendance est à la baisse."
   ]
  },
  {
   "cell_type": "markdown",
   "metadata": {},
   "source": [
    "## Question 5"
   ]
  },
  {
   "cell_type": "code",
   "execution_count": 37,
   "metadata": {
    "scrolled": false
   },
   "outputs": [
    {
     "data": {
      "image/png": "[encoded data removed]",
      "text/plain": [
       "<Figure size 1152x360 with 2 Axes>"
      ]
     },
     "metadata": {
      "needs_background": "light"
     },
     "output_type": "display_data"
    }
   ],
   "source": [
    "from statsmodels.graphics.tsaplots import plot_acf, plot_pacf\n",
    "\n",
    "inf = df[\"inf\"].dropna()\n",
    "fig, axes = plt.subplots(1, 2, figsize=(16,5))\n",
    "plot_acf(inf, ax=axes[0], zero=False, title=\"Autocorrelation de la série 'inf'\")\n",
    "plot_pacf(inf, ax=axes[1], zero=False, title=\"Autocorrelation partielle de la série 'inf'\")\n",
    "plt.show()"
   ]
  },
  {
   "cell_type": "markdown",
   "metadata": {},
   "source": [
    "* Autocorrelation d'ordre $h$ : $\\rho(h) = \\frac{\\gamma(h)}{\\gamma(0)}$ avec $\\gamma(h) = \\text{cov}(Y_t, Y_{t+h})$\n",
    "* Autocorrelations partielles = coéfficients de la regression linéaire sur les lags considérés (ici 25) pour prédire la valeur au temp $t$."
   ]
  },
  {
   "cell_type": "markdown",
   "metadata": {},
   "source": [
    "## Question 6\n",
    "\n",
    "* Stationarité stricte : la distribution jointe de $(Y_{t+1}, Y_{t+2},\\cdots, Y_{t+h})$ ne dépend pas de $h$, ie le passé et le futur se ressemblent.\n",
    "* Stationarité faible : $\\forall t, \\mathbb{E}[Y_t] = \\mu$ et $\\forall t, \\forall h, \\text{cov}(Y_t, Y_{t+h}) = \\gamma(h)$\n",
    "* Ergodicité : $\\underset{h \\rightarrow \\infty}{\\lim} \\rho(h) = 0$, ie le processus oublie les conditions initiales\n",
    "\n",
    "Ces deux conditions sont nécessaires car elles permettent, pour la première, d'appliquer le Théorème Central Limite et pour la seconde, de faire correspondre la moyenne temporelle et la moyenne spatiale (Théorème ergodique) et ainsi analyser le processus en analysant une seule trajectoire.\n",
    "\n",
    "*Spurious Regresion* : corrélation n'est pas causation"
   ]
  },
  {
   "cell_type": "markdown",
   "metadata": {},
   "source": [
    "## Question 7"
   ]
  },
  {
   "cell_type": "code",
   "execution_count": 38,
   "metadata": {},
   "outputs": [
    {
     "name": "stdout",
     "output_type": "stream",
     "text": [
      "ADF Stat : -2.919, p-value : 4.318e-02\n",
      "Nombre de lags utilisés : 2\n",
      "Valeurs critiques :\n",
      "    [1% : -3.4622]\n",
      "    [5% : -2.8755]\n",
      "    [10% : -2.5742]\n"
     ]
    }
   ],
   "source": [
    "from statsmodels.tsa.stattools import adfuller\n",
    "\n",
    "adf_results = adfuller(inf, autolag=\"AIC\")\n",
    "\n",
    "print(f\"ADF Stat : {adf_results[0]:.3f}, p-value : {adf_results[1]:.3e}\")\n",
    "print(f\"Nombre de lags utilisés : {adf_results[2]}\")\n",
    "print(\"Valeurs critiques :\")\n",
    "for k, v in adf_results[4].items():\n",
    "    print(f\"    [{k} : {v:.4f}]\")"
   ]
  },
  {
   "cell_type": "markdown",
   "metadata": {},
   "source": [
    "La p-value est inférieure à 5%, on peut donc rejeter l'hypothèse nulle qui est que la série n'est pas stationaire. La série est donc stationaire."
   ]
  },
  {
   "cell_type": "code",
   "execution_count": 39,
   "metadata": {},
   "outputs": [
    {
     "name": "stdout",
     "output_type": "stream",
     "text": [
      "ADF Stat : -2.550, p-value : 5.408e-01\n",
      "Nombre de lags utilisés : 5\n",
      "Valeurs critiques :\n",
      "    [1% : -4.4283]\n",
      "    [5% : -3.8614]\n",
      "    [10% : -3.5712]\n"
     ]
    }
   ],
   "source": [
    "adf_results = adfuller(df[\"CPI\"], regression=\"ctt\", autolag=\"AIC\")\n",
    "\n",
    "print(f\"ADF Stat : {adf_results[0]:.3f}, p-value : {adf_results[1]:.3e}\")\n",
    "print(f\"Nombre de lags utilisés : {adf_results[2]}\")\n",
    "print(\"Valeurs critiques :\")\n",
    "for k, v in adf_results[4].items():\n",
    "    print(f\"    [{k} : {v:.4f}]\")"
   ]
  },
  {
   "cell_type": "markdown",
   "metadata": {},
   "source": [
    "## Question 8"
   ]
  },
  {
   "cell_type": "code",
   "execution_count": 40,
   "metadata": {},
   "outputs": [],
   "source": [
    "from pmdarima import ARIMA\n",
    "\n",
    "# modèle ARIMA(p,0,0) = AR(p)\n",
    "ar = ARIMA((2,0,0))\n",
    "\n",
    "ar.fit(df[\"inf\"])\n",
    "preds = ar.predict_in_sample()"
   ]
  },
  {
   "cell_type": "code",
   "execution_count": 41,
   "metadata": {},
   "outputs": [
    {
     "data": {
      "image/png": "[encoded data removed]",
      "text/plain": [
       "<Figure size 792x360 with 1 Axes>"
      ]
     },
     "metadata": {
      "needs_background": "light"
     },
     "output_type": "display_data"
    }
   ],
   "source": [
    "plt.figure(figsize=(11, 5))\n",
    "plt.plot(df[\"DATE\"], df[\"inf\"], label=\"inf\")\n",
    "plt.plot(df[\"DATE\"], preds, label=\"AR(2)\")\n",
    "plt.title(\"Inflation et predictions du modèle AR(2)\")\n",
    "plt.legend()\n",
    "plt.xticks([x for i, x in enumerate(df[\"DATE\"]) if i%10==0], rotation=90)\n",
    "plt.show()"
   ]
  },
  {
   "cell_type": "markdown",
   "metadata": {},
   "source": [
    "## Question 9"
   ]
  },
  {
   "cell_type": "code",
   "execution_count": 42,
   "metadata": {},
   "outputs": [
    {
     "data": {
      "image/png": "[encoded data removed]",
      "text/plain": [
       "<Figure size 432x288 with 1 Axes>"
      ]
     },
     "metadata": {
      "needs_background": "light"
     },
     "output_type": "display_data"
    }
   ],
   "source": [
    "# on passe la variable `Unemp` à la même échelle que `inf`\n",
    "df.loc[:, \"Unemp\"] = df[\"Unemp\"] / 100\n",
    "X9 = inf\n",
    "y9 = df[\"Unemp\"].iloc[1:]\n",
    "X9 = sm.add_constant(X9)\n",
    "model9 = sm.OLS(y9, X9)\n",
    "results9 = model9.fit()\n",
    "preds = model9.predict(results9.params, X9)\n",
    "\n",
    "plt.figure(figsize=(6,4))\n",
    "plt.scatter(inf, y9)\n",
    "plt.plot(inf, preds, color=\"C1\", label=\"regression line\")\n",
    "plt.title(\"Courbe de Philips\")\n",
    "plt.xlabel(\"Inflation rate\")\n",
    "plt.ylabel(\"Unemployment rate\")\n",
    "plt.legend()\n",
    "plt.show()"
   ]
  },
  {
   "cell_type": "markdown",
   "metadata": {},
   "source": [
    "## Question 10\n",
    "Pour tester l'autocorrélation des erreurs, on définit le modèle autorégressif suivant : $u_t = \\rho u_{t-1} + \\epsilon$ où $u_t$ est le résidu au temps $t$.\n",
    "\n",
    "On teste l'hypothèse $H_0 : \\rho = 0$ avec un test de Student."
   ]
  },
  {
   "cell_type": "code",
   "execution_count": 43,
   "metadata": {},
   "outputs": [
    {
     "data": {
      "text/html": [
       "<table class=\"simpletable\">\n",
       "<caption>OLS Regression Results</caption>\n",
       "<tr>\n",
       "  <th>Dep. Variable:</th>            <td>y</td>        <th>  R-squared (uncentered):</th>      <td>   0.956</td> \n",
       "</tr>\n",
       "<tr>\n",
       "  <th>Model:</th>                   <td>OLS</td>       <th>  Adj. R-squared (uncentered):</th> <td>   0.956</td> \n",
       "</tr>\n",
       "<tr>\n",
       "  <th>Method:</th>             <td>Least Squares</td>  <th>  F-statistic:       </th>          <td>   4557.</td> \n",
       "</tr>\n",
       "<tr>\n",
       "  <th>Date:</th>             <td>Fri, 29 Apr 2022</td> <th>  Prob (F-statistic):</th>          <td>6.88e-144</td>\n",
       "</tr>\n",
       "<tr>\n",
       "  <th>Time:</th>                 <td>00:17:50</td>     <th>  Log-Likelihood:    </th>          <td>  896.68</td> \n",
       "</tr>\n",
       "<tr>\n",
       "  <th>No. Observations:</th>      <td>   210</td>      <th>  AIC:               </th>          <td>  -1791.</td> \n",
       "</tr>\n",
       "<tr>\n",
       "  <th>Df Residuals:</th>          <td>   209</td>      <th>  BIC:               </th>          <td>  -1788.</td> \n",
       "</tr>\n",
       "<tr>\n",
       "  <th>Df Model:</th>              <td>     1</td>      <th>                     </th>              <td> </td>    \n",
       "</tr>\n",
       "<tr>\n",
       "  <th>Covariance Type:</th>      <td>nonrobust</td>    <th>                     </th>              <td> </td>    \n",
       "</tr>\n",
       "</table>\n",
       "<table class=\"simpletable\">\n",
       "<tr>\n",
       "   <td></td>     <th>coef</th>     <th>std err</th>      <th>t</th>      <th>P>|t|</th>  <th>[0.025</th>    <th>0.975]</th>  \n",
       "</tr>\n",
       "<tr>\n",
       "  <th>x1</th> <td>    0.9799</td> <td>    0.015</td> <td>   67.507</td> <td> 0.000</td> <td>    0.951</td> <td>    1.009</td>\n",
       "</tr>\n",
       "</table>\n",
       "<table class=\"simpletable\">\n",
       "<tr>\n",
       "  <th>Omnibus:</th>       <td>78.916</td> <th>  Durbin-Watson:     </th> <td>   0.666</td>\n",
       "</tr>\n",
       "<tr>\n",
       "  <th>Prob(Omnibus):</th> <td> 0.000</td> <th>  Jarque-Bera (JB):  </th> <td> 244.932</td>\n",
       "</tr>\n",
       "<tr>\n",
       "  <th>Skew:</th>          <td> 1.583</td> <th>  Prob(JB):          </th> <td>6.51e-54</td>\n",
       "</tr>\n",
       "<tr>\n",
       "  <th>Kurtosis:</th>      <td> 7.239</td> <th>  Cond. No.          </th> <td>    1.00</td>\n",
       "</tr>\n",
       "</table><br/><br/>Notes:<br/>[1] R² is computed without centering (uncentered) since the model does not contain a constant.<br/>[2] Standard Errors assume that the covariance matrix of the errors is correctly specified."
      ],
      "text/plain": [
       "<class 'statsmodels.iolib.summary.Summary'>\n",
       "\"\"\"\n",
       "                                 OLS Regression Results                                \n",
       "=======================================================================================\n",
       "Dep. Variable:                      y   R-squared (uncentered):                   0.956\n",
       "Model:                            OLS   Adj. R-squared (uncentered):              0.956\n",
       "Method:                 Least Squares   F-statistic:                              4557.\n",
       "Date:                Fri, 29 Apr 2022   Prob (F-statistic):                   6.88e-144\n",
       "Time:                        00:17:50   Log-Likelihood:                          896.68\n",
       "No. Observations:                 210   AIC:                                     -1791.\n",
       "Df Residuals:                     209   BIC:                                     -1788.\n",
       "Df Model:                           1                                                  \n",
       "Covariance Type:            nonrobust                                                  \n",
       "==============================================================================\n",
       "                 coef    std err          t      P>|t|      [0.025      0.975]\n",
       "------------------------------------------------------------------------------\n",
       "x1             0.9799      0.015     67.507      0.000       0.951       1.009\n",
       "==============================================================================\n",
       "Omnibus:                       78.916   Durbin-Watson:                   0.666\n",
       "Prob(Omnibus):                  0.000   Jarque-Bera (JB):              244.932\n",
       "Skew:                           1.583   Prob(JB):                     6.51e-54\n",
       "Kurtosis:                       7.239   Cond. No.                         1.00\n",
       "==============================================================================\n",
       "\n",
       "Notes:\n",
       "[1] R² is computed without centering (uncentered) since the model does not contain a constant.\n",
       "[2] Standard Errors assume that the covariance matrix of the errors is correctly specified.\n",
       "\"\"\""
      ]
     },
     "execution_count": 43,
     "metadata": {},
     "output_type": "execute_result"
    }
   ],
   "source": [
    "u = results9.resid.iloc[1:]\n",
    "X10 = results9.resid.shift(1).iloc[1:]\n",
    "\n",
    "model10 = sm.OLS(u, X10)\n",
    "results10 = model10.fit()\n",
    "results10.summary()"
   ]
  },
  {
   "cell_type": "markdown",
   "metadata": {},
   "source": [
    "Comme indiqué dans le résumé du modèle OLS de *statsmodels*, la p-valeur du test de Student pour le coéfficient du modèle est 0.000 donc on peut rejeter l'hypothèse nulle à 1%. Les erreurs sont autocorrélées."
   ]
  },
  {
   "cell_type": "markdown",
   "metadata": {},
   "source": [
    "## Question 11\n",
    "Pour corriger l'autocorrélation, on transforme le modèle comme suit : $y_t - \\rho y_{t-1} = \\beta_0 + \\beta_1 (X_t - \\rho X_{t-1})$"
   ]
  },
  {
   "cell_type": "code",
   "execution_count": 44,
   "metadata": {},
   "outputs": [
    {
     "data": {
      "text/html": [
       "<table class=\"simpletable\">\n",
       "<caption>OLS Regression Results</caption>\n",
       "<tr>\n",
       "  <th>Dep. Variable:</th>          <td>Unemp</td>      <th>  R-squared:         </th> <td>   0.024</td>\n",
       "</tr>\n",
       "<tr>\n",
       "  <th>Model:</th>                   <td>OLS</td>       <th>  Adj. R-squared:    </th> <td>   0.020</td>\n",
       "</tr>\n",
       "<tr>\n",
       "  <th>Method:</th>             <td>Least Squares</td>  <th>  F-statistic:       </th> <td>   5.203</td>\n",
       "</tr>\n",
       "<tr>\n",
       "  <th>Date:</th>             <td>Fri, 29 Apr 2022</td> <th>  Prob (F-statistic):</th>  <td>0.0236</td> \n",
       "</tr>\n",
       "<tr>\n",
       "  <th>Time:</th>                 <td>00:17:50</td>     <th>  Log-Likelihood:    </th> <td>  900.29</td>\n",
       "</tr>\n",
       "<tr>\n",
       "  <th>No. Observations:</th>      <td>   210</td>      <th>  AIC:               </th> <td>  -1797.</td>\n",
       "</tr>\n",
       "<tr>\n",
       "  <th>Df Residuals:</th>          <td>   208</td>      <th>  BIC:               </th> <td>  -1790.</td>\n",
       "</tr>\n",
       "<tr>\n",
       "  <th>Df Model:</th>              <td>     1</td>      <th>                     </th>     <td> </td>   \n",
       "</tr>\n",
       "<tr>\n",
       "  <th>Covariance Type:</th>      <td>nonrobust</td>    <th>                     </th>     <td> </td>   \n",
       "</tr>\n",
       "</table>\n",
       "<table class=\"simpletable\">\n",
       "<tr>\n",
       "    <td></td>       <th>coef</th>     <th>std err</th>      <th>t</th>      <th>P>|t|</th>  <th>[0.025</th>    <th>0.975]</th>  \n",
       "</tr>\n",
       "<tr>\n",
       "  <th>const</th> <td>    0.0014</td> <td>    0.000</td> <td>    5.909</td> <td> 0.000</td> <td>    0.001</td> <td>    0.002</td>\n",
       "</tr>\n",
       "<tr>\n",
       "  <th>inf</th>   <td>   -0.0996</td> <td>    0.044</td> <td>   -2.281</td> <td> 0.024</td> <td>   -0.186</td> <td>   -0.014</td>\n",
       "</tr>\n",
       "</table>\n",
       "<table class=\"simpletable\">\n",
       "<tr>\n",
       "  <th>Omnibus:</th>       <td>82.044</td> <th>  Durbin-Watson:     </th> <td>   0.725</td>\n",
       "</tr>\n",
       "<tr>\n",
       "  <th>Prob(Omnibus):</th> <td> 0.000</td> <th>  Jarque-Bera (JB):  </th> <td> 283.535</td>\n",
       "</tr>\n",
       "<tr>\n",
       "  <th>Skew:</th>          <td> 1.600</td> <th>  Prob(JB):          </th> <td>2.70e-62</td>\n",
       "</tr>\n",
       "<tr>\n",
       "  <th>Kurtosis:</th>      <td> 7.707</td> <th>  Cond. No.          </th> <td>    189.</td>\n",
       "</tr>\n",
       "</table><br/><br/>Notes:<br/>[1] Standard Errors assume that the covariance matrix of the errors is correctly specified."
      ],
      "text/plain": [
       "<class 'statsmodels.iolib.summary.Summary'>\n",
       "\"\"\"\n",
       "                            OLS Regression Results                            \n",
       "==============================================================================\n",
       "Dep. Variable:                  Unemp   R-squared:                       0.024\n",
       "Model:                            OLS   Adj. R-squared:                  0.020\n",
       "Method:                 Least Squares   F-statistic:                     5.203\n",
       "Date:                Fri, 29 Apr 2022   Prob (F-statistic):             0.0236\n",
       "Time:                        00:17:50   Log-Likelihood:                 900.29\n",
       "No. Observations:                 210   AIC:                            -1797.\n",
       "Df Residuals:                     208   BIC:                            -1790.\n",
       "Df Model:                           1                                         \n",
       "Covariance Type:            nonrobust                                         \n",
       "==============================================================================\n",
       "                 coef    std err          t      P>|t|      [0.025      0.975]\n",
       "------------------------------------------------------------------------------\n",
       "const          0.0014      0.000      5.909      0.000       0.001       0.002\n",
       "inf           -0.0996      0.044     -2.281      0.024      -0.186      -0.014\n",
       "==============================================================================\n",
       "Omnibus:                       82.044   Durbin-Watson:                   0.725\n",
       "Prob(Omnibus):                  0.000   Jarque-Bera (JB):              283.535\n",
       "Skew:                           1.600   Prob(JB):                     2.70e-62\n",
       "Kurtosis:                       7.707   Cond. No.                         189.\n",
       "==============================================================================\n",
       "\n",
       "Notes:\n",
       "[1] Standard Errors assume that the covariance matrix of the errors is correctly specified.\n",
       "\"\"\""
      ]
     },
     "execution_count": 44,
     "metadata": {},
     "output_type": "execute_result"
    }
   ],
   "source": [
    "rho = results10.params[0]\n",
    "y11 = df[\"Unemp\"] - rho * df[\"Unemp\"].shift(1)\n",
    "y11 = y11.iloc[2:]\n",
    "X11 = df[\"inf\"] - rho * df[\"inf\"].shift(1)\n",
    "X11 = X11.iloc[2:]\n",
    "X11 = sm.add_constant(X11)\n",
    "\n",
    "model11 = sm.OLS(y11, X11)\n",
    "results11 = model11.fit()\n",
    "results11.summary()"
   ]
  },
  {
   "cell_type": "markdown",
   "metadata": {},
   "source": [
    "## Question 12\n",
    "Il s'agit de réaliser un Test de Chow:\n",
    "* Modèle contraint : régression sur l'ensemble de la période -> $SSR1$\n",
    "* 2 modèles non-contraints : régressions sur les sous-périodes -> $SSR0_{total} = SSR0_1 + SSR0_2$.\n",
    "\n",
    "* L'hypothèse nulle $H_0$ est que les coéfficients de régression des 3 modèles sont les mêmes.\n",
    "\n",
    "* On calcul la statistique de Fisher : $F = \\frac{(SSR0_{total} - SSR1) / c}{ SSR0_{total} / ddl}$\n",
    "avec $ddl = n-2(p+1)$ et restrictions : $c = p + 1$.\n",
    "\n"
   ]
  },
  {
   "cell_type": "code",
   "execution_count": 45,
   "metadata": {},
   "outputs": [],
   "source": [
    "def chow_test(X, y):\n",
    "    # modèle contraint\n",
    "    model1 = sm.OLS(y, X).fit()\n",
    "    SSR1 = model1.resid.T @ model1.resid\n",
    "    # point de split du dataset en 2 parts égales\n",
    "    split_point = X.shape[0] // 2\n",
    "    X1 = X.iloc[:split_point]\n",
    "    y1 = y.iloc[:split_point]\n",
    "    X2 = X.iloc[split_point:]\n",
    "    y2 = y.iloc[split_point:]\n",
    "    # résidus des 2 sous-modèles non-contraints \n",
    "    SSR0_1 = calc_ssr(X1, y1)\n",
    "    SSR0_2 = calc_ssr(X2, y2)\n",
    "    # nombre de restrictions:\n",
    "    c = X.shape[1]\n",
    "    ddl = X.shape[0] - 2 * c\n",
    "    # stat de Fisher et p-value\n",
    "    F, p_val = calc_fisher(SSR0_1+SSR0_2, SSR1, c, ddl)\n",
    "    if p_val < 0.05:\n",
    "        print(\"On rejette l'hypothèse de stabilité de la relation chômage-inflation à 5%\")\n",
    "    else:\n",
    "        print(\"On ne rejette par l'hypothèse nulle à 5%\")\n",
    "    return F, p_val"
   ]
  },
  {
   "cell_type": "code",
   "execution_count": 46,
   "metadata": {},
   "outputs": [
    {
     "name": "stdout",
     "output_type": "stream",
     "text": [
      "F-stat : 4.478, p-value : 1.25e-02\n",
      "On rejette l'hypothèse de stabilité de la relation chômage-inflation à 5%\n"
     ]
    }
   ],
   "source": [
    "# en repartant du modèle de la question 11\n",
    "_ = chow_test(X11, y11)"
   ]
  },
  {
   "cell_type": "code",
   "execution_count": 47,
   "metadata": {},
   "outputs": [
    {
     "name": "stdout",
     "output_type": "stream",
     "text": [
      "F-stat : 1.942, p-value : 1.46e-01\n",
      "On ne rejette par l'hypothèse nulle à 5%\n"
     ]
    }
   ],
   "source": [
    "# en repartant du modèle de la question 9\n",
    "_ = chow_test(X9, y9)"
   ]
  },
  {
   "cell_type": "markdown",
   "metadata": {},
   "source": [
    "## Question 13"
   ]
  },
  {
   "cell_type": "code",
   "execution_count": 48,
   "metadata": {
    "scrolled": true
   },
   "outputs": [
    {
     "data": {
      "text/html": [
       "<div>\n",
       "<style scoped>\n",
       "    .dataframe tbody tr th:only-of-type {\n",
       "        vertical-align: middle;\n",
       "    }\n",
       "\n",
       "    .dataframe tbody tr th {\n",
       "        vertical-align: top;\n",
       "    }\n",
       "\n",
       "    .dataframe thead th {\n",
       "        text-align: right;\n",
       "    }\n",
       "</style>\n",
       "<table border=\"1\" class=\"dataframe\">\n",
       "  <thead>\n",
       "    <tr style=\"text-align: right;\">\n",
       "      <th></th>\n",
       "      <th>const</th>\n",
       "      <th>inf_1</th>\n",
       "      <th>Unemp_1</th>\n",
       "      <th>inf_2</th>\n",
       "      <th>Unemp_2</th>\n",
       "      <th>inf_3</th>\n",
       "      <th>Unemp_3</th>\n",
       "      <th>inf_4</th>\n",
       "      <th>Unemp_4</th>\n",
       "    </tr>\n",
       "  </thead>\n",
       "  <tbody>\n",
       "    <tr>\n",
       "      <th>5</th>\n",
       "      <td>1.0</td>\n",
       "      <td>0.002015</td>\n",
       "      <td>0.0680</td>\n",
       "      <td>0.006421</td>\n",
       "      <td>0.0627</td>\n",
       "      <td>0.000676</td>\n",
       "      <td>0.0553</td>\n",
       "      <td>0.005782</td>\n",
       "      <td>0.0523</td>\n",
       "    </tr>\n",
       "    <tr>\n",
       "      <th>6</th>\n",
       "      <td>1.0</td>\n",
       "      <td>-0.000335</td>\n",
       "      <td>0.0700</td>\n",
       "      <td>0.002015</td>\n",
       "      <td>0.0680</td>\n",
       "      <td>0.006421</td>\n",
       "      <td>0.0627</td>\n",
       "      <td>0.000676</td>\n",
       "      <td>0.0553</td>\n",
       "    </tr>\n",
       "    <tr>\n",
       "      <th>7</th>\n",
       "      <td>1.0</td>\n",
       "      <td>0.004023</td>\n",
       "      <td>0.0677</td>\n",
       "      <td>-0.000335</td>\n",
       "      <td>0.0700</td>\n",
       "      <td>0.002015</td>\n",
       "      <td>0.0680</td>\n",
       "      <td>0.006421</td>\n",
       "      <td>0.0627</td>\n",
       "    </tr>\n",
       "    <tr>\n",
       "      <th>8</th>\n",
       "      <td>1.0</td>\n",
       "      <td>0.001336</td>\n",
       "      <td>0.0620</td>\n",
       "      <td>0.004023</td>\n",
       "      <td>0.0677</td>\n",
       "      <td>-0.000335</td>\n",
       "      <td>0.0700</td>\n",
       "      <td>0.002015</td>\n",
       "      <td>0.0680</td>\n",
       "    </tr>\n",
       "    <tr>\n",
       "      <th>9</th>\n",
       "      <td>1.0</td>\n",
       "      <td>0.004001</td>\n",
       "      <td>0.0563</td>\n",
       "      <td>0.001336</td>\n",
       "      <td>0.0620</td>\n",
       "      <td>0.004023</td>\n",
       "      <td>0.0677</td>\n",
       "      <td>-0.000335</td>\n",
       "      <td>0.0700</td>\n",
       "    </tr>\n",
       "    <tr>\n",
       "      <th>...</th>\n",
       "      <td>...</td>\n",
       "      <td>...</td>\n",
       "      <td>...</td>\n",
       "      <td>...</td>\n",
       "      <td>...</td>\n",
       "      <td>...</td>\n",
       "      <td>...</td>\n",
       "      <td>...</td>\n",
       "      <td>...</td>\n",
       "    </tr>\n",
       "    <tr>\n",
       "      <th>207</th>\n",
       "      <td>1.0</td>\n",
       "      <td>0.007169</td>\n",
       "      <td>0.0900</td>\n",
       "      <td>0.011440</td>\n",
       "      <td>0.0903</td>\n",
       "      <td>0.010881</td>\n",
       "      <td>0.0900</td>\n",
       "      <td>0.007477</td>\n",
       "      <td>0.0953</td>\n",
       "    </tr>\n",
       "    <tr>\n",
       "      <th>208</th>\n",
       "      <td>1.0</td>\n",
       "      <td>0.003493</td>\n",
       "      <td>0.0867</td>\n",
       "      <td>0.007169</td>\n",
       "      <td>0.0900</td>\n",
       "      <td>0.011440</td>\n",
       "      <td>0.0903</td>\n",
       "      <td>0.010881</td>\n",
       "      <td>0.0900</td>\n",
       "    </tr>\n",
       "    <tr>\n",
       "      <th>209</th>\n",
       "      <td>1.0</td>\n",
       "      <td>0.005728</td>\n",
       "      <td>0.0827</td>\n",
       "      <td>0.003493</td>\n",
       "      <td>0.0867</td>\n",
       "      <td>0.007169</td>\n",
       "      <td>0.0900</td>\n",
       "      <td>0.011440</td>\n",
       "      <td>0.0903</td>\n",
       "    </tr>\n",
       "    <tr>\n",
       "      <th>210</th>\n",
       "      <td>1.0</td>\n",
       "      <td>0.002497</td>\n",
       "      <td>0.0817</td>\n",
       "      <td>0.005728</td>\n",
       "      <td>0.0827</td>\n",
       "      <td>0.003493</td>\n",
       "      <td>0.0867</td>\n",
       "      <td>0.007169</td>\n",
       "      <td>0.0900</td>\n",
       "    </tr>\n",
       "    <tr>\n",
       "      <th>211</th>\n",
       "      <td>1.0</td>\n",
       "      <td>0.005200</td>\n",
       "      <td>0.0803</td>\n",
       "      <td>0.002497</td>\n",
       "      <td>0.0817</td>\n",
       "      <td>0.005728</td>\n",
       "      <td>0.0827</td>\n",
       "      <td>0.003493</td>\n",
       "      <td>0.0867</td>\n",
       "    </tr>\n",
       "  </tbody>\n",
       "</table>\n",
       "<p>207 rows × 9 columns</p>\n",
       "</div>"
      ],
      "text/plain": [
       "     const     inf_1  Unemp_1     inf_2  Unemp_2     inf_3  Unemp_3     inf_4  \\\n",
       "5      1.0  0.002015   0.0680  0.006421   0.0627  0.000676   0.0553  0.005782   \n",
       "6      1.0 -0.000335   0.0700  0.002015   0.0680  0.006421   0.0627  0.000676   \n",
       "7      1.0  0.004023   0.0677 -0.000335   0.0700  0.002015   0.0680  0.006421   \n",
       "8      1.0  0.001336   0.0620  0.004023   0.0677 -0.000335   0.0700  0.002015   \n",
       "9      1.0  0.004001   0.0563  0.001336   0.0620  0.004023   0.0677 -0.000335   \n",
       "..     ...       ...      ...       ...      ...       ...      ...       ...   \n",
       "207    1.0  0.007169   0.0900  0.011440   0.0903  0.010881   0.0900  0.007477   \n",
       "208    1.0  0.003493   0.0867  0.007169   0.0900  0.011440   0.0903  0.010881   \n",
       "209    1.0  0.005728   0.0827  0.003493   0.0867  0.007169   0.0900  0.011440   \n",
       "210    1.0  0.002497   0.0817  0.005728   0.0827  0.003493   0.0867  0.007169   \n",
       "211    1.0  0.005200   0.0803  0.002497   0.0817  0.005728   0.0827  0.003493   \n",
       "\n",
       "     Unemp_4  \n",
       "5     0.0523  \n",
       "6     0.0553  \n",
       "7     0.0627  \n",
       "8     0.0680  \n",
       "9     0.0700  \n",
       "..       ...  \n",
       "207   0.0953  \n",
       "208   0.0900  \n",
       "209   0.0903  \n",
       "210   0.0900  \n",
       "211   0.0867  \n",
       "\n",
       "[207 rows x 9 columns]"
      ]
     },
     "execution_count": 48,
     "metadata": {},
     "output_type": "execute_result"
    }
   ],
   "source": [
    "X13 = df[[\"inf\", \"Unemp\"]]\n",
    "X13 = pd.concat([X13.shift(i) for i in range(1,5)], axis=1).iloc[5:]\n",
    "cols = []\n",
    "for i in range(1,5):\n",
    "    cols.append(f\"inf_{i}\")\n",
    "    cols.append(f\"Unemp_{i}\")\n",
    "X13.columns = cols\n",
    "X13 = sm.add_constant(X13)\n",
    "\n",
    "y13 = df[\"Unemp\"].iloc[5:]\n",
    "\n",
    "X13"
   ]
  },
  {
   "cell_type": "code",
   "execution_count": 49,
   "metadata": {},
   "outputs": [
    {
     "name": "stdout",
     "output_type": "stream",
     "text": [
      "Coéfficients de régression:\n",
      " const      0.001457\n",
      "inf_1      0.031105\n",
      "Unemp_1    1.593705\n",
      "inf_2     -0.023578\n",
      "Unemp_2   -0.647169\n",
      "inf_3      0.068949\n",
      "Unemp_3    0.022248\n",
      "inf_4      0.016329\n",
      "Unemp_4   -0.007975\n",
      "dtype: float64\n"
     ]
    },
    {
     "data": {
      "image/png": "[encoded data removed]",
      "text/plain": [
       "<Figure size 792x360 with 1 Axes>"
      ]
     },
     "metadata": {
      "needs_background": "light"
     },
     "output_type": "display_data"
    }
   ],
   "source": [
    "model13 = sm.OLS(y13, X13)\n",
    "results13 = model13.fit()\n",
    "preds = model13.predict(results13.params, X13)\n",
    "print(\"Coéfficients de régression:\\n\",results13.params)\n",
    "\n",
    "plt.figure(figsize=(11,5))\n",
    "plt.plot(df[\"DATE\"].iloc[5:], y13, label=\"ground truth\")\n",
    "plt.plot(df[\"DATE\"].iloc[5:], preds, color=\"C1\", label=\"predictions\")\n",
    "plt.title(\"Estimation du taux de chômage via la courbe de Philips\")\n",
    "#plt.xlabel(\"\")\n",
    "plt.ylabel(\"Unemployment rate\")\n",
    "plt.xticks([x for i, x in enumerate(df[\"DATE\"]) if i%10==0], rotation=90)\n",
    "plt.legend()\n",
    "plt.show()"
   ]
  },
  {
   "cell_type": "markdown",
   "metadata": {},
   "source": [
    "On réalise le test de Granger. Il s'agit d'un test de Fisher avec pour paramètres :\n",
    "* $H_0$ : les variables liées à l'inflation ne sont pas significatives pour le modèle (ie non causalité de l'inflation sur le chômage)\n",
    "* modèle non contraint : on prend en compte toutes les variables\n",
    "* modèle contraint : on retire les variables liées à l'inflation"
   ]
  },
  {
   "cell_type": "code",
   "execution_count": 50,
   "metadata": {},
   "outputs": [
    {
     "name": "stdout",
     "output_type": "stream",
     "text": [
      "F-stat : 3.797, p-value : 5.35e-03\n",
      "Avec seuil de significativité de 5.00%, on rejette H0\n"
     ]
    }
   ],
   "source": [
    "fisher_test(X13, y13, [f\"inf_{i}\" for i in range(1,5)], 0.95)"
   ]
  },
  {
   "cell_type": "markdown",
   "metadata": {},
   "source": [
    "## Question 14"
   ]
  },
  {
   "cell_type": "code",
   "execution_count": 51,
   "metadata": {},
   "outputs": [
    {
     "data": {
      "image/png": "[encoded data removed]",
      "text/plain": [
       "<Figure size 792x288 with 2 Axes>"
      ]
     },
     "metadata": {
      "needs_background": "light"
     },
     "output_type": "display_data"
    }
   ],
   "source": [
    "inf_coef = [results13.params[f\"inf_{i}\"] for i in range(1,5)]\n",
    "inf_tick = [col for col in X13.columns if \"inf\" in col]\n",
    "unemp_coef = [results13.params[f\"Unemp_{i}\"] for i in range(1,5)]\n",
    "unemp_tick = [col for col in X13.columns if \"Unemp\" in col]\n",
    "\n",
    "fig, axes = plt.subplots(1,2, figsize=(11,4))\n",
    "axes[0].stem(inf_tick, inf_coef)\n",
    "axes[0].set_xticklabels(inf_tick)\n",
    "axes[0].set_title(\"Délais distribués de la variable inf\")\n",
    "\n",
    "axes[1].stem(unemp_tick, unemp_coef)\n",
    "axes[1].set_xticklabels(unemp_tick)\n",
    "axes[1].set_title(\"Délais distribués de la variable Unemp\")\n",
    "\n",
    "plt.show()"
   ]
  },
  {
   "cell_type": "markdown",
   "metadata": {},
   "source": [
    "Pour le modèle,\n",
    "$$\n",
    "y_t = \\beta_0 + \\sum_{k=1}^{4} \\beta_k y_{t-k} + \\sum_{j=1}^{4}\\alpha_j x_{t-j} + u_t\n",
    "$$\n",
    "le coéfficient long-terme de $x$ sur $y$ est : $$\\theta = \\frac{\\sum_{j=1}^4 \\alpha_j}{1 - \\sum_{k=1}^4 \\beta_k}$$"
   ]
  },
  {
   "cell_type": "code",
   "execution_count": 52,
   "metadata": {},
   "outputs": [
    {
     "name": "stdout",
     "output_type": "stream",
     "text": [
      "Coéfficient long terme de l'inflation sur le chômage: 2.368\n"
     ]
    }
   ],
   "source": [
    "theta = np.sum(inf_coef) / (1- np.sum(unemp_coef))\n",
    "\n",
    "print(f\"Coéfficient long terme de l'inflation sur le chômage: {theta:.3f}\")"
   ]
  }
 ],
 "metadata": {
  "kernelspec": {
   "display_name": "Python 3 (ipykernel)",
   "language": "python",
   "name": "python3"
  },
  "language_info": {
   "codemirror_mode": {
    "name": "ipython",
    "version": 3
   },
   "file_extension": ".py",
   "mimetype": "text/x-python",
   "name": "python",
   "nbconvert_exporter": "python",
   "pygments_lexer": "ipython3",
   "version": "3.9.12"
  }
 },
 "nbformat": 4,
 "nbformat_minor": 4
}
